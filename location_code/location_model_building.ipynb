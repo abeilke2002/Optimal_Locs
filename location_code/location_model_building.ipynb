{
 "cells": [
  {
   "cell_type": "code",
   "execution_count": 1,
   "metadata": {},
   "outputs": [],
   "source": [
    "import pandas as pd\n",
    "import numpy as np\n",
    "\n",
    "from catboost import CatBoostRegressor\n",
    "import lightgbm as lgb\n",
    "import optuna\n",
    "import xgboost as xgb\n",
    "from sklearn.model_selection import cross_val_score, KFold\n",
    "from sklearn.metrics import mean_squared_error\n",
    "\n",
    "import pickle"
   ]
  },
  {
   "cell_type": "code",
   "execution_count": 3,
   "metadata": {},
   "outputs": [
    {
     "name": "stderr",
     "output_type": "stream",
     "text": [
      "/var/folders/z9/0qsxxzxs1hb9r22xy18sfdbc0000gn/T/ipykernel_73357/4106798530.py:1: DtypeWarning: Columns (27,92,93,94) have mixed types. Specify dtype option on import or set low_memory=False.\n",
      "  college_data = pd.read_csv(\"/Users/aidanbeilke/Desktop/Purdue_Base/newman_proj/csvs/college_2024_pitch_type.csv\")\n"
     ]
    }
   ],
   "source": [
    "college_data = pd.read_csv(\"/Users/aidanbeilke/Desktop/Purdue_Base/newman_proj/csvs/college_2024_pitch_type.csv\")\n",
    "college_heights = pd.read_csv(\"/Users/aidanbeilke/Desktop/Purdue_Base/newman_proj/csvs/college_height.csv\")"
   ]
  },
  {
   "cell_type": "code",
   "execution_count": 4,
   "metadata": {},
   "outputs": [
    {
     "data": {
      "text/plain": [
       "(1462896, 169)"
      ]
     },
     "execution_count": 4,
     "metadata": {},
     "output_type": "execute_result"
    }
   ],
   "source": [
    "college_data.shape"
   ]
  },
  {
   "cell_type": "code",
   "execution_count": 5,
   "metadata": {},
   "outputs": [
    {
     "data": {
      "text/plain": [
       "['PitchNo',\n",
       " 'Date',\n",
       " 'Time',\n",
       " 'PAofInning',\n",
       " 'PitchofPA',\n",
       " 'Pitcher',\n",
       " 'PitcherId',\n",
       " 'PitcherThrows',\n",
       " 'PitcherTeam',\n",
       " 'Batter',\n",
       " 'BatterId',\n",
       " 'BatterSide',\n",
       " 'BatterTeam',\n",
       " 'PitcherSet',\n",
       " 'Inning',\n",
       " 'Top.Bottom',\n",
       " 'Outs',\n",
       " 'Balls',\n",
       " 'Strikes',\n",
       " 'TaggedPitchType',\n",
       " 'AutoPitchType',\n",
       " 'PitchCall',\n",
       " 'KorBB',\n",
       " 'TaggedHitType',\n",
       " 'PlayResult',\n",
       " 'OutsOnPlay',\n",
       " 'RunsScored',\n",
       " 'Notes',\n",
       " 'RelSpeed',\n",
       " 'VertRelAngle',\n",
       " 'HorzRelAngle',\n",
       " 'SpinRate',\n",
       " 'SpinAxis',\n",
       " 'Tilt',\n",
       " 'RelHeight',\n",
       " 'RelSide',\n",
       " 'Extension',\n",
       " 'VertBreak',\n",
       " 'InducedVertBreak',\n",
       " 'HorzBreak',\n",
       " 'PlateLocHeight',\n",
       " 'PlateLocSide',\n",
       " 'ZoneSpeed',\n",
       " 'VertApprAngle',\n",
       " 'HorzApprAngle',\n",
       " 'ZoneTime',\n",
       " 'ExitSpeed',\n",
       " 'Angle',\n",
       " 'Direction',\n",
       " 'HitSpinRate',\n",
       " 'PositionAt110X',\n",
       " 'PositionAt110Y',\n",
       " 'PositionAt110Z',\n",
       " 'Distance',\n",
       " 'LastTrackedDistance',\n",
       " 'Bearing',\n",
       " 'HangTime',\n",
       " 'pfxx',\n",
       " 'pfxz',\n",
       " 'x0',\n",
       " 'y0',\n",
       " 'z0',\n",
       " 'vx0',\n",
       " 'vy0',\n",
       " 'vz0',\n",
       " 'ax0',\n",
       " 'ay0',\n",
       " 'az0',\n",
       " 'HomeTeam',\n",
       " 'AwayTeam',\n",
       " 'Stadium',\n",
       " 'Level',\n",
       " 'League',\n",
       " 'GameID',\n",
       " 'PitchUID',\n",
       " 'EffectiveVelo',\n",
       " 'MaxHeight',\n",
       " 'MeasuredDuration',\n",
       " 'SpeedDrop',\n",
       " 'PitchLastMeasuredX',\n",
       " 'PitchLastMeasuredY',\n",
       " 'PitchLastMeasuredZ',\n",
       " 'ContactPositionX',\n",
       " 'ContactPositionY',\n",
       " 'ContactPositionZ',\n",
       " 'GameUID',\n",
       " 'UTCDate',\n",
       " 'UTCTime',\n",
       " 'LocalDateTime',\n",
       " 'UTCDateTime',\n",
       " 'AutoHitType',\n",
       " 'System',\n",
       " 'HomeTeamForeignID',\n",
       " 'AwayTeamForeignID',\n",
       " 'GameForeignID',\n",
       " 'Catcher',\n",
       " 'CatcherId',\n",
       " 'CatcherThrows',\n",
       " 'CatcherTeam',\n",
       " 'PlayID',\n",
       " 'PitchTrajectoryXc0',\n",
       " 'PitchTrajectoryXc1',\n",
       " 'PitchTrajectoryXc2',\n",
       " 'PitchTrajectoryYc0',\n",
       " 'PitchTrajectoryYc1',\n",
       " 'PitchTrajectoryYc2',\n",
       " 'PitchTrajectoryZc0',\n",
       " 'PitchTrajectoryZc1',\n",
       " 'PitchTrajectoryZc2',\n",
       " 'HitSpinAxis',\n",
       " 'HitTrajectoryXc0',\n",
       " 'HitTrajectoryXc1',\n",
       " 'HitTrajectoryXc2',\n",
       " 'HitTrajectoryXc3',\n",
       " 'HitTrajectoryXc4',\n",
       " 'HitTrajectoryXc5',\n",
       " 'HitTrajectoryXc6',\n",
       " 'HitTrajectoryXc7',\n",
       " 'HitTrajectoryXc8',\n",
       " 'HitTrajectoryYc0',\n",
       " 'HitTrajectoryYc1',\n",
       " 'HitTrajectoryYc2',\n",
       " 'HitTrajectoryYc3',\n",
       " 'HitTrajectoryYc4',\n",
       " 'HitTrajectoryYc5',\n",
       " 'HitTrajectoryYc6',\n",
       " 'HitTrajectoryYc7',\n",
       " 'HitTrajectoryYc8',\n",
       " 'HitTrajectoryZc0',\n",
       " 'HitTrajectoryZc1',\n",
       " 'HitTrajectoryZc2',\n",
       " 'HitTrajectoryZc3',\n",
       " 'HitTrajectoryZc4',\n",
       " 'HitTrajectoryZc5',\n",
       " 'HitTrajectoryZc6',\n",
       " 'HitTrajectoryZc7',\n",
       " 'HitTrajectoryZc8',\n",
       " 'ThrowSpeed',\n",
       " 'PopTime',\n",
       " 'ExchangeTime',\n",
       " 'TimeToBase',\n",
       " 'CatchPositionX',\n",
       " 'CatchPositionY',\n",
       " 'CatchPositionZ',\n",
       " 'ThrowPositionX',\n",
       " 'ThrowPositionY',\n",
       " 'ThrowPositionZ',\n",
       " 'BasePositionX',\n",
       " 'BasePositionY',\n",
       " 'BasePositionZ',\n",
       " 'ThrowTrajectoryXc0',\n",
       " 'ThrowTrajectoryXc1',\n",
       " 'ThrowTrajectoryXc2',\n",
       " 'ThrowTrajectoryYc0',\n",
       " 'ThrowTrajectoryYc1',\n",
       " 'ThrowTrajectoryYc2',\n",
       " 'ThrowTrajectoryZc0',\n",
       " 'ThrowTrajectoryZc1',\n",
       " 'ThrowTrajectoryZc2',\n",
       " 'PitchReleaseConfidence',\n",
       " 'PitchLocationConfidence',\n",
       " 'PitchMovementConfidence',\n",
       " 'HitLaunchConfidence',\n",
       " 'HitLandingConfidence',\n",
       " 'CatcherThrowCatchConfidence',\n",
       " 'CatcherThrowReleaseConfidence',\n",
       " 'CatcherThrowLocationConfidence',\n",
       " 'pitch_type_code',\n",
       " 'pitch_type']"
      ]
     },
     "execution_count": 5,
     "metadata": {},
     "output_type": "execute_result"
    }
   ],
   "source": [
    "[c for c in college_data.columns]"
   ]
  },
  {
   "cell_type": "code",
   "execution_count": 6,
   "metadata": {},
   "outputs": [
    {
     "name": "stdout",
     "output_type": "stream",
     "text": [
      "'PUR_BOI' is an option for PitcherTeam.\n"
     ]
    }
   ],
   "source": [
    "if 'PUR_BOI' in college_data['PitcherTeam'].values:\n",
    "    print(\"'PUR_BOI' is an option for PitcherTeam.\")\n",
    "else:\n",
    "    print(\"'PUR_BOI' is not an option for PitcherTeam.\")\n"
   ]
  },
  {
   "cell_type": "code",
   "execution_count": 7,
   "metadata": {},
   "outputs": [
    {
     "data": {
      "text/plain": [
       "(1455983, 169)"
      ]
     },
     "execution_count": 7,
     "metadata": {},
     "output_type": "execute_result"
    }
   ],
   "source": [
    "# Omit Purdue Pitchers to avoid Overfitting\n",
    "college_data = college_data[college_data['PitcherTeam'] != \"PUR_BOI\"]\n",
    "\n",
    "college_data.shape"
   ]
  },
  {
   "cell_type": "markdown",
   "metadata": {},
   "source": [
    "## Arm Angle"
   ]
  },
  {
   "cell_type": "markdown",
   "metadata": {},
   "source": [
    "#### Rename Columns to Match and Apply Model"
   ]
  },
  {
   "cell_type": "code",
   "execution_count": 8,
   "metadata": {},
   "outputs": [],
   "source": [
    "college_data = college_data.rename(columns={\n",
    "    'RelSide' : 'release_pos_x',\n",
    "    'RelHeight' : 'release_pos_z',\n",
    "    'Extension' : 'release_extension',\n",
    "    'Pitcher' : 'player_name'\n",
    "})"
   ]
  },
  {
   "cell_type": "code",
   "execution_count": 9,
   "metadata": {},
   "outputs": [
    {
     "data": {
      "text/html": [
       "<div>\n",
       "<style scoped>\n",
       "    .dataframe tbody tr th:only-of-type {\n",
       "        vertical-align: middle;\n",
       "    }\n",
       "\n",
       "    .dataframe tbody tr th {\n",
       "        vertical-align: top;\n",
       "    }\n",
       "\n",
       "    .dataframe thead th {\n",
       "        text-align: right;\n",
       "    }\n",
       "</style>\n",
       "<table border=\"1\" class=\"dataframe\">\n",
       "  <thead>\n",
       "    <tr style=\"text-align: right;\">\n",
       "      <th></th>\n",
       "      <th>player_name</th>\n",
       "      <th>height_in_inches</th>\n",
       "    </tr>\n",
       "  </thead>\n",
       "  <tbody>\n",
       "    <tr>\n",
       "      <th>0</th>\n",
       "      <td>Griffen Leiner</td>\n",
       "      <td>75</td>\n",
       "    </tr>\n",
       "    <tr>\n",
       "      <th>1</th>\n",
       "      <td>Walker Retz</td>\n",
       "      <td>75</td>\n",
       "    </tr>\n",
       "    <tr>\n",
       "      <th>2</th>\n",
       "      <td>Carl Cano</td>\n",
       "      <td>73</td>\n",
       "    </tr>\n",
       "    <tr>\n",
       "      <th>3</th>\n",
       "      <td>Tucker Huhn</td>\n",
       "      <td>74</td>\n",
       "    </tr>\n",
       "    <tr>\n",
       "      <th>4</th>\n",
       "      <td>Cooper Smith</td>\n",
       "      <td>70</td>\n",
       "    </tr>\n",
       "    <tr>\n",
       "      <th>...</th>\n",
       "      <td>...</td>\n",
       "      <td>...</td>\n",
       "    </tr>\n",
       "    <tr>\n",
       "      <th>5421</th>\n",
       "      <td>Jacob Crystal</td>\n",
       "      <td>74</td>\n",
       "    </tr>\n",
       "    <tr>\n",
       "      <th>5422</th>\n",
       "      <td>Kennen Smith</td>\n",
       "      <td>76</td>\n",
       "    </tr>\n",
       "    <tr>\n",
       "      <th>5423</th>\n",
       "      <td>Steven Freer</td>\n",
       "      <td>75</td>\n",
       "    </tr>\n",
       "    <tr>\n",
       "      <th>5424</th>\n",
       "      <td>Billy Hoffacker</td>\n",
       "      <td>78</td>\n",
       "    </tr>\n",
       "    <tr>\n",
       "      <th>5425</th>\n",
       "      <td>Max Danaher</td>\n",
       "      <td>76</td>\n",
       "    </tr>\n",
       "  </tbody>\n",
       "</table>\n",
       "<p>5426 rows × 2 columns</p>\n",
       "</div>"
      ],
      "text/plain": [
       "          player_name  height_in_inches\n",
       "0      Griffen Leiner                75\n",
       "1         Walker Retz                75\n",
       "2           Carl Cano                73\n",
       "3         Tucker Huhn                74\n",
       "4        Cooper Smith                70\n",
       "...               ...               ...\n",
       "5421    Jacob Crystal                74\n",
       "5422     Kennen Smith                76\n",
       "5423     Steven Freer                75\n",
       "5424  Billy Hoffacker                78\n",
       "5425      Max Danaher                76\n",
       "\n",
       "[5426 rows x 2 columns]"
      ]
     },
     "execution_count": 9,
     "metadata": {},
     "output_type": "execute_result"
    }
   ],
   "source": [
    "college_heights"
   ]
  },
  {
   "cell_type": "code",
   "execution_count": 11,
   "metadata": {},
   "outputs": [],
   "source": [
    "college_data = college_data[college_data['player_name'] != \"O'Brien Cameron\"]\n",
    "\n",
    "def format_name(name):\n",
    "    try:\n",
    "        last, first = name.split(\", \")\n",
    "        return f\"{first} {last}\"\n",
    "    except ValueError:\n",
    "        # Return the name as is if it doesn't match the expected format\n",
    "        return name\n",
    "\n",
    "college_data['player_name'] = college_data['player_name'].apply(format_name)"
   ]
  },
  {
   "cell_type": "code",
   "execution_count": 12,
   "metadata": {},
   "outputs": [],
   "source": [
    "college_data = college_data.merge(college_heights, \n",
    "                                  on = 'player_name', \n",
    "                                  how = 'left')"
   ]
  },
  {
   "cell_type": "code",
   "execution_count": 13,
   "metadata": {},
   "outputs": [
    {
     "data": {
      "text/plain": [
       "(1098219, 171)"
      ]
     },
     "execution_count": 13,
     "metadata": {},
     "output_type": "execute_result"
    }
   ],
   "source": [
    "college_data['interaction'] =  college_data['release_pos_z'] * college_data['release_extension'] * college_data['height_in_inches']\n",
    "feats = ['release_pos_x', 'release_pos_z', 'release_extension', 'height_in_inches', 'interaction']\n",
    "\n",
    "college_data = college_data.dropna(subset = feats)\n",
    "\n",
    "college_data.shape"
   ]
  },
  {
   "cell_type": "markdown",
   "metadata": {},
   "source": [
    "### Load and Apply Arm Angle Model"
   ]
  },
  {
   "cell_type": "code",
   "execution_count": 15,
   "metadata": {},
   "outputs": [],
   "source": [
    "catboost = \"/Users/aidanbeilke/Desktop/Purdue_Base/newman_proj/models/best_catboost_model.pkl\"\n",
    "\n",
    "with open(catboost, 'rb') as cb_file:\n",
    "    catboost_model = pickle.load(cb_file)"
   ]
  },
  {
   "cell_type": "code",
   "execution_count": 16,
   "metadata": {},
   "outputs": [],
   "source": [
    "pred_arm_angle = catboost_model.predict(college_data[feats])"
   ]
  },
  {
   "cell_type": "code",
   "execution_count": 17,
   "metadata": {},
   "outputs": [],
   "source": [
    "college_data['arm_angle'] = pred_arm_angle"
   ]
  },
  {
   "cell_type": "markdown",
   "metadata": {},
   "source": [
    "## Run Values"
   ]
  },
  {
   "cell_type": "code",
   "execution_count": 19,
   "metadata": {},
   "outputs": [
    {
     "name": "stdout",
     "output_type": "stream",
     "text": [
      "['BallCalled' 'StrikeCalled' 'InPlay' 'StrikeSwinging' 'FoulBall'\n",
      " 'BallinDirt' 'HitByPitch' 'BallIntentional' 'FoulBallFieldable'\n",
      " 'FoulBallNotFieldable' 'FouldBallNotFieldable' 'Undefined'\n",
      " 'StrkeSwinging' 'BattersInterference' 'StriekC']\n",
      "['Undefined' 'Out' 'Single' 'Double' 'Sacrifice' 'HomeRun' 'Error'\n",
      " 'FieldersChoice' 'Triple' 'StolenBase' 'CaughtStealing' 'SIngle'\n",
      " 'homerun' 'error']\n"
     ]
    }
   ],
   "source": [
    "print(college_data['PitchCall'].unique())\n",
    "print(college_data['PlayResult'].unique())"
   ]
  },
  {
   "cell_type": "code",
   "execution_count": 20,
   "metadata": {},
   "outputs": [],
   "source": [
    "df_run_values = pd.read_csv(\"/Users/aidanbeilke/Downloads/run_values.csv\")\n",
    "\n",
    "des_dict = {\n",
    "    'InPlay' : 'InPlay',\n",
    "    'BallCalled': 'ball',\n",
    "    'BallinDirt' : 'ball',\n",
    "    'BallIntentional' : 'ball',\n",
    "    'HitByPitch' : 'hit_by_pitch',\n",
    "    'StrikeCalled' : 'called_strike',\n",
    "    'StrikeSwinging' : 'swinging_strike',\n",
    "    'StrkeSwinging' : 'swinging_strike',\n",
    "    'FoulBall' : 'foul',\n",
    "    'FoulBallFieldable' : 'foul',\n",
    "    'FoulBallNotFieldable' : 'foul',\n",
    "    'FouldBallNotFieldable' : 'foul',\n",
    "    'BattersInterference' : None,\n",
    "    'StriekC' : None\n",
    "}\n",
    "\n",
    "event_dic = {\n",
    "    'Undefined' : None,\n",
    "    'Out' : 'field_out',\n",
    "    'Single' : 'single',\n",
    "    'SIngle' : 'single',\n",
    "    'Double' : 'double',\n",
    "    'Triple' : 'triple',\n",
    "    'HomeRun' : 'home_run',\n",
    "    'homerun' : 'home_run',\n",
    "    'Sacrifice' : 'field_out',\n",
    "    'Error' : 'field_out',\n",
    "    'error' : 'field_out',\n",
    "    'FieldersChoice' : 'field_out',\n",
    "    'StolenBase' : None,\n",
    "    'CaughtStealing': None,\n",
    "}\n",
    "\n",
    "korbb_dict = {\n",
    "    'Undefined' : None,\n",
    "    'Strikeout' : 'strikeout',\n",
    "    'Walk' : 'walk'\n",
    "}\n",
    "\n",
    "college_data['PitchCall'] = college_data['PitchCall'].map(des_dict)\n",
    "college_data['PlayResult'] = college_data['PlayResult'].map(event_dic)\n",
    "college_data['KorBB'] = college_data['KorBB'].map(korbb_dict)\n"
   ]
  },
  {
   "cell_type": "code",
   "execution_count": 21,
   "metadata": {},
   "outputs": [],
   "source": [
    "def create_pitch_event(row):\n",
    "    if row['KorBB'] is not None:\n",
    "        return row['KorBB']\n",
    "    elif row['PitchCall'] == 'InPlay':\n",
    "        return row['PlayResult']\n",
    "    else:\n",
    "        return row['PitchCall']\n",
    "\n",
    "college_data['pitch_event'] = college_data.apply(create_pitch_event, axis = 1)\n",
    "\n",
    "college_data = college_data.dropna(subset = 'pitch_event')"
   ]
  },
  {
   "cell_type": "code",
   "execution_count": 22,
   "metadata": {},
   "outputs": [
    {
     "name": "stdout",
     "output_type": "stream",
     "text": [
      "['ball', 'called_strike', 'double', 'field_out', 'foul', 'hit_by_pitch', 'home_run', 'single', 'strikeout', 'swinging_strike', 'triple', 'walk']\n",
      "['ball', 'called_strike', 'double', 'field_out', 'foul', 'hit_by_pitch', 'home_run', 'single', 'strikeout', 'swinging_strike', 'triple', 'walk']\n"
     ]
    }
   ],
   "source": [
    "print(sorted(college_data['pitch_event'].unique()))\n",
    "print(sorted(df_run_values['event'].unique()))"
   ]
  },
  {
   "cell_type": "code",
   "execution_count": 23,
   "metadata": {},
   "outputs": [],
   "source": [
    "college_data = college_data.merge(df_run_values,\n",
    "                                  left_on= ['pitch_event', 'Balls', 'Strikes'],\n",
    "                                  right_on= ['event', 'balls', 'strikes'],\n",
    "                                  how = 'left')"
   ]
  },
  {
   "cell_type": "code",
   "execution_count": 24,
   "metadata": {},
   "outputs": [
    {
     "data": {
      "text/html": [
       "<div>\n",
       "<style scoped>\n",
       "    .dataframe tbody tr th:only-of-type {\n",
       "        vertical-align: middle;\n",
       "    }\n",
       "\n",
       "    .dataframe tbody tr th {\n",
       "        vertical-align: top;\n",
       "    }\n",
       "\n",
       "    .dataframe thead th {\n",
       "        text-align: right;\n",
       "    }\n",
       "</style>\n",
       "<table border=\"1\" class=\"dataframe\">\n",
       "  <thead>\n",
       "    <tr style=\"text-align: right;\">\n",
       "      <th></th>\n",
       "      <th>pitch_event</th>\n",
       "      <th>Balls</th>\n",
       "      <th>Strikes</th>\n",
       "      <th>delta_run_exp</th>\n",
       "    </tr>\n",
       "  </thead>\n",
       "  <tbody>\n",
       "    <tr>\n",
       "      <th>0</th>\n",
       "      <td>ball</td>\n",
       "      <td>0</td>\n",
       "      <td>0</td>\n",
       "      <td>0.034661</td>\n",
       "    </tr>\n",
       "    <tr>\n",
       "      <th>1</th>\n",
       "      <td>ball</td>\n",
       "      <td>1</td>\n",
       "      <td>0</td>\n",
       "      <td>0.059995</td>\n",
       "    </tr>\n",
       "    <tr>\n",
       "      <th>2</th>\n",
       "      <td>called_strike</td>\n",
       "      <td>2</td>\n",
       "      <td>0</td>\n",
       "      <td>-0.060725</td>\n",
       "    </tr>\n",
       "    <tr>\n",
       "      <th>3</th>\n",
       "      <td>ball</td>\n",
       "      <td>2</td>\n",
       "      <td>1</td>\n",
       "      <td>0.099768</td>\n",
       "    </tr>\n",
       "    <tr>\n",
       "      <th>4</th>\n",
       "      <td>field_out</td>\n",
       "      <td>3</td>\n",
       "      <td>1</td>\n",
       "      <td>-0.387370</td>\n",
       "    </tr>\n",
       "    <tr>\n",
       "      <th>...</th>\n",
       "      <td>...</td>\n",
       "      <td>...</td>\n",
       "      <td>...</td>\n",
       "      <td>...</td>\n",
       "    </tr>\n",
       "    <tr>\n",
       "      <th>1098189</th>\n",
       "      <td>called_strike</td>\n",
       "      <td>0</td>\n",
       "      <td>0</td>\n",
       "      <td>-0.038869</td>\n",
       "    </tr>\n",
       "    <tr>\n",
       "      <th>1098190</th>\n",
       "      <td>ball</td>\n",
       "      <td>0</td>\n",
       "      <td>1</td>\n",
       "      <td>0.025701</td>\n",
       "    </tr>\n",
       "    <tr>\n",
       "      <th>1098191</th>\n",
       "      <td>field_out</td>\n",
       "      <td>1</td>\n",
       "      <td>1</td>\n",
       "      <td>-0.240501</td>\n",
       "    </tr>\n",
       "    <tr>\n",
       "      <th>1098192</th>\n",
       "      <td>foul</td>\n",
       "      <td>0</td>\n",
       "      <td>0</td>\n",
       "      <td>-0.042103</td>\n",
       "    </tr>\n",
       "    <tr>\n",
       "      <th>1098193</th>\n",
       "      <td>field_out</td>\n",
       "      <td>0</td>\n",
       "      <td>1</td>\n",
       "      <td>-0.218948</td>\n",
       "    </tr>\n",
       "  </tbody>\n",
       "</table>\n",
       "<p>1098194 rows × 4 columns</p>\n",
       "</div>"
      ],
      "text/plain": [
       "           pitch_event  Balls  Strikes  delta_run_exp\n",
       "0                 ball      0        0       0.034661\n",
       "1                 ball      1        0       0.059995\n",
       "2        called_strike      2        0      -0.060725\n",
       "3                 ball      2        1       0.099768\n",
       "4            field_out      3        1      -0.387370\n",
       "...                ...    ...      ...            ...\n",
       "1098189  called_strike      0        0      -0.038869\n",
       "1098190           ball      0        1       0.025701\n",
       "1098191      field_out      1        1      -0.240501\n",
       "1098192           foul      0        0      -0.042103\n",
       "1098193      field_out      0        1      -0.218948\n",
       "\n",
       "[1098194 rows x 4 columns]"
      ]
     },
     "execution_count": 24,
     "metadata": {},
     "output_type": "execute_result"
    }
   ],
   "source": [
    "college_data[['pitch_event', 'Balls', 'Strikes', 'delta_run_exp']]"
   ]
  },
  {
   "cell_type": "markdown",
   "metadata": {},
   "source": [
    "## Expected iVB Model"
   ]
  },
  {
   "cell_type": "code",
   "execution_count": 25,
   "metadata": {},
   "outputs": [
    {
     "name": "stderr",
     "output_type": "stream",
     "text": [
      "/var/folders/z9/0qsxxzxs1hb9r22xy18sfdbc0000gn/T/ipykernel_73357/825213301.py:1: DtypeWarning: Columns (27) have mixed types. Specify dtype option on import or set low_memory=False.\n",
      "  cape = pd.read_csv(\"/Users/aidanbeilke/Desktop/Purdue_Base/newman_proj/csvs/cape_2024_pitch_type.csv\")\n"
     ]
    },
    {
     "data": {
      "text/plain": [
       "(58079, 169)"
      ]
     },
     "execution_count": 25,
     "metadata": {},
     "output_type": "execute_result"
    }
   ],
   "source": [
    "cape = pd.read_csv(\"/Users/aidanbeilke/Desktop/Purdue_Base/newman_proj/csvs/cape_2024_pitch_type.csv\")\n",
    "\n",
    "cape.shape"
   ]
  },
  {
   "cell_type": "code",
   "execution_count": 26,
   "metadata": {},
   "outputs": [],
   "source": [
    "cape = cape.rename(columns={\n",
    "    'RelSide' : 'release_pos_x',\n",
    "    'RelHeight' : 'release_pos_z',\n",
    "    'Extension' : 'release_extension',\n",
    "    'Pitcher' : 'player_name'\n",
    "})\n",
    "def format_name(name):\n",
    "    try:\n",
    "        last, first = name.split(\", \")\n",
    "        return f\"{first} {last}\"\n",
    "    except ValueError:\n",
    "        # Return the name as is if it doesn't match the expected format\n",
    "        return name\n",
    "\n",
    "cape['player_name'] = cape['player_name'].apply(format_name)\n",
    "\n",
    "cape = cape.merge(college_heights, \n",
    "                                  on = 'player_name', \n",
    "                                  how = 'left')\n",
    "\n",
    "cape['interaction'] =  cape['release_pos_z'] * cape['release_extension'] * cape['height_in_inches']\n",
    "cape = cape.dropna(subset = feats)\n",
    "cape_arm_angle = catboost_model.predict(cape[feats])\n",
    "\n",
    "cape['arm_angle'] = cape_arm_angle"
   ]
  },
  {
   "cell_type": "code",
   "execution_count": 27,
   "metadata": {},
   "outputs": [],
   "source": [
    "features = ['arm_angle', 'release_pos_x', 'release_pos_z', 'release_extension', 'RelSpeed', 'SpinRate']\n",
    "target = 'InducedVertBreak'"
   ]
  },
  {
   "cell_type": "code",
   "execution_count": 30,
   "metadata": {},
   "outputs": [
    {
     "name": "stderr",
     "output_type": "stream",
     "text": [
      "[I 2025-08-21 13:19:34,050] A new study created in memory with name: no-name-61a13f3b-4f57-47d9-b93b-6031f550ae6f\n",
      "[I 2025-08-21 13:20:14,838] Trial 0 finished with value: 4.3134779224786275 and parameters: {'lambda': 6.1302493543172844e-06, 'alpha': 5.346566166054721e-05, 'n_estimators': 231, 'max_depth': 6, 'eta': 0.21329629347348047, 'gamma': 2.402830813440496e-07, 'grow_policy': 'lossguide', 'subsample': 0.5909076814942226, 'colsample_bytree': 0.9468903087460296, 'min_child_weight': 8}. Best is trial 0 with value: 4.3134779224786275.\n",
      "[I 2025-08-21 13:23:29,097] Trial 1 finished with value: 4.179527064105747 and parameters: {'lambda': 1.0576410238877378e-06, 'alpha': 2.494942642071682e-06, 'n_estimators': 849, 'max_depth': 8, 'eta': 0.17043215009724663, 'gamma': 0.10921666789586809, 'grow_policy': 'lossguide', 'subsample': 0.8251200009017088, 'colsample_bytree': 0.9290637122947099, 'min_child_weight': 1}. Best is trial 1 with value: 4.179527064105747.\n",
      "[I 2025-08-21 13:24:42,199] Trial 2 finished with value: 4.791992092219006 and parameters: {'lambda': 0.4229970555419655, 'alpha': 0.0188053428357524, 'n_estimators': 846, 'max_depth': 3, 'eta': 0.030972295593861714, 'gamma': 5.070617853587122e-05, 'grow_policy': 'depthwise', 'subsample': 0.9411782880029254, 'colsample_bytree': 0.6938512748358894, 'min_child_weight': 4}. Best is trial 1 with value: 4.179527064105747.\n",
      "[I 2025-08-21 13:25:15,209] Trial 3 finished with value: 5.320198969735552 and parameters: {'lambda': 1.2698916699916213e-05, 'alpha': 4.249870006320049e-07, 'n_estimators': 399, 'max_depth': 3, 'eta': 0.013377303225228137, 'gamma': 4.3709272610197546e-07, 'grow_policy': 'depthwise', 'subsample': 0.5475318714672252, 'colsample_bytree': 0.5719931537056919, 'min_child_weight': 3}. Best is trial 1 with value: 4.179527064105747.\n",
      "[I 2025-08-21 13:26:23,549] Trial 4 finished with value: 4.4138989606868435 and parameters: {'lambda': 0.00013706387080222597, 'alpha': 7.372878227128932e-07, 'n_estimators': 472, 'max_depth': 5, 'eta': 0.0462501526482415, 'gamma': 1.4628641315548437e-06, 'grow_policy': 'depthwise', 'subsample': 0.682973459548144, 'colsample_bytree': 0.8386835568059698, 'min_child_weight': 1}. Best is trial 1 with value: 4.179527064105747.\n",
      "[I 2025-08-21 13:35:58,334] Trial 5 finished with value: 4.0156005991029495 and parameters: {'lambda': 6.841341909787797e-08, 'alpha': 5.661340256536453e-06, 'n_estimators': 685, 'max_depth': 9, 'eta': 0.015112057785877193, 'gamma': 0.5394867525315216, 'grow_policy': 'lossguide', 'subsample': 0.9104114210518207, 'colsample_bytree': 0.9379935148680748, 'min_child_weight': 2}. Best is trial 5 with value: 4.0156005991029495.\n",
      "[I 2025-08-21 13:39:23,867] Trial 6 finished with value: 4.232616375656986 and parameters: {'lambda': 7.243200699846844e-05, 'alpha': 0.004483046757987333, 'n_estimators': 605, 'max_depth': 9, 'eta': 0.24081790014881901, 'gamma': 6.135727445691327e-06, 'grow_policy': 'lossguide', 'subsample': 0.8548137662064994, 'colsample_bytree': 0.8830416335720591, 'min_child_weight': 2}. Best is trial 5 with value: 4.0156005991029495.\n",
      "[I 2025-08-21 13:43:06,833] Trial 7 finished with value: 4.209618042741458 and parameters: {'lambda': 6.505944046950642e-07, 'alpha': 0.00014386485369762328, 'n_estimators': 908, 'max_depth': 8, 'eta': 0.1813373253587373, 'gamma': 0.004642812969397296, 'grow_policy': 'depthwise', 'subsample': 0.761413690389751, 'colsample_bytree': 0.9223580422677411, 'min_child_weight': 1}. Best is trial 5 with value: 4.0156005991029495.\n",
      "[I 2025-08-21 13:45:07,694] Trial 8 finished with value: 4.201048058357693 and parameters: {'lambda': 5.644879710393345e-08, 'alpha': 4.934378333368476e-08, 'n_estimators': 545, 'max_depth': 7, 'eta': 0.15564241701265252, 'gamma': 5.872773118725973e-08, 'grow_policy': 'lossguide', 'subsample': 0.645922133603187, 'colsample_bytree': 0.9175374969349965, 'min_child_weight': 3}. Best is trial 5 with value: 4.0156005991029495.\n",
      "[I 2025-08-21 13:46:07,867] Trial 9 finished with value: 4.617337735060883 and parameters: {'lambda': 0.4224003544159718, 'alpha': 7.963019375267492e-08, 'n_estimators': 342, 'max_depth': 5, 'eta': 0.021314832494456502, 'gamma': 1.8665825406715902e-05, 'grow_policy': 'depthwise', 'subsample': 0.6483615513417278, 'colsample_bytree': 0.7582637588761223, 'min_child_weight': 10}. Best is trial 5 with value: 4.0156005991029495.\n",
      "[I 2025-08-21 13:49:52,169] Trial 10 finished with value: 4.112746067421221 and parameters: {'lambda': 0.00508722959844283, 'alpha': 0.23226987305323082, 'n_estimators': 653, 'max_depth': 9, 'eta': 0.010642796826148515, 'gamma': 0.8774367620802256, 'grow_policy': 'lossguide', 'subsample': 0.9667793247735491, 'colsample_bytree': 0.7520872839341717, 'min_child_weight': 6}. Best is trial 5 with value: 4.0156005991029495.\n",
      "[I 2025-08-21 13:53:38,395] Trial 11 finished with value: 4.351549402156748 and parameters: {'lambda': 0.004500444314037159, 'alpha': 0.34814450476516445, 'n_estimators': 683, 'max_depth': 9, 'eta': 0.010464925941457242, 'gamma': 0.8462267342767502, 'grow_policy': 'lossguide', 'subsample': 0.9941717762425779, 'colsample_bytree': 0.6481717127559208, 'min_child_weight': 7}. Best is trial 5 with value: 4.0156005991029495.\n",
      "[I 2025-08-21 13:57:50,007] Trial 12 finished with value: 4.064336154375819 and parameters: {'lambda': 0.004700674837692377, 'alpha': 3.922245898985867e-05, 'n_estimators': 700, 'max_depth': 9, 'eta': 0.02112511459078477, 'gamma': 0.00472660207895017, 'grow_policy': 'lossguide', 'subsample': 0.9113321737109081, 'colsample_bytree': 0.7960828330233718, 'min_child_weight': 5}. Best is trial 5 with value: 4.0156005991029495.\n",
      "[I 2025-08-21 14:01:20,400] Trial 13 finished with value: 4.225299246785506 and parameters: {'lambda': 1.8276070174279434e-08, 'alpha': 2.9999492147960323e-05, 'n_estimators': 761, 'max_depth': 7, 'eta': 0.020829502000618564, 'gamma': 0.002431083225405353, 'grow_policy': 'lossguide', 'subsample': 0.8649136038978293, 'colsample_bytree': 0.8241916417042155, 'min_child_weight': 5}. Best is trial 5 with value: 4.0156005991029495.\n",
      "[I 2025-08-21 14:10:07,903] Trial 14 finished with value: 4.051717472476172 and parameters: {'lambda': 0.0030108697089436683, 'alpha': 0.0006837890927297877, 'n_estimators': 971, 'max_depth': 8, 'eta': 0.08209762860900219, 'gamma': 0.0020481104197078675, 'grow_policy': 'lossguide', 'subsample': 0.9127021824373286, 'colsample_bytree': 0.977674518584941, 'min_child_weight': 5}. Best is trial 5 with value: 4.0156005991029495.\n",
      "[I 2025-08-21 15:28:29,370] Trial 15 finished with value: 4.053016622908198 and parameters: {'lambda': 0.041776994936865035, 'alpha': 0.0012426923860612347, 'n_estimators': 960, 'max_depth': 8, 'eta': 0.09647179156487026, 'gamma': 0.0005568895430319637, 'grow_policy': 'lossguide', 'subsample': 0.7780264261627378, 'colsample_bytree': 0.9831675336686414, 'min_child_weight': 9}. Best is trial 5 with value: 4.0156005991029495.\n",
      "[I 2025-08-21 15:33:18,712] Trial 16 finished with value: 4.109626807483448 and parameters: {'lambda': 0.00035029732356315013, 'alpha': 5.115529306857007e-06, 'n_estimators': 976, 'max_depth': 7, 'eta': 0.07928594387645574, 'gamma': 0.04743381860949886, 'grow_policy': 'lossguide', 'subsample': 0.9010717684221655, 'colsample_bytree': 0.8638840330449649, 'min_child_weight': 3}. Best is trial 5 with value: 4.0156005991029495.\n",
      "[I 2025-08-21 15:37:35,859] Trial 17 finished with value: 4.030141407607033 and parameters: {'lambda': 1.3113629818413095e-07, 'alpha': 0.0004514425364576983, 'n_estimators': 794, 'max_depth': 8, 'eta': 0.05339614743062879, 'gamma': 0.051451960547632174, 'grow_policy': 'lossguide', 'subsample': 0.8352291840193331, 'colsample_bytree': 0.99322698631751, 'min_child_weight': 6}. Best is trial 5 with value: 4.0156005991029495.\n",
      "[I 2025-08-21 15:40:24,354] Trial 18 finished with value: 4.3451226747102885 and parameters: {'lambda': 1.9865546234422486e-07, 'alpha': 0.02968416584201357, 'n_estimators': 788, 'max_depth': 6, 'eta': 0.04646421308963558, 'gamma': 0.044489325867255104, 'grow_policy': 'lossguide', 'subsample': 0.8029326225158882, 'colsample_bytree': 0.506294771836753, 'min_child_weight': 7}. Best is trial 5 with value: 4.0156005991029495.\n",
      "[I 2025-08-21 15:42:15,165] Trial 19 finished with value: 4.449813887650313 and parameters: {'lambda': 1.252419450596314e-08, 'alpha': 7.499077592878117e-06, 'n_estimators': 547, 'max_depth': 5, 'eta': 0.030127728133359514, 'gamma': 0.17126021860011267, 'grow_policy': 'lossguide', 'subsample': 0.7279826979070284, 'colsample_bytree': 0.9941915043918957, 'min_child_weight': 6}. Best is trial 5 with value: 4.0156005991029495.\n",
      "[I 2025-08-21 15:43:05,650] Trial 20 finished with value: 4.21126600062776 and parameters: {'lambda': 3.3555634506992535e-06, 'alpha': 0.0006667008507978082, 'n_estimators': 175, 'max_depth': 7, 'eta': 0.11792927711126787, 'gamma': 0.00026513961175925774, 'grow_policy': 'lossguide', 'subsample': 0.7238162612642125, 'colsample_bytree': 0.8819704756506901, 'min_child_weight': 4}. Best is trial 5 with value: 4.0156005991029495.\n",
      "[I 2025-08-21 15:47:19,901] Trial 21 finished with value: 4.037458782916093 and parameters: {'lambda': 1.0414945830583047e-07, 'alpha': 0.00042057888512185267, 'n_estimators': 781, 'max_depth': 8, 'eta': 0.06017926147947399, 'gamma': 0.010939074366820536, 'grow_policy': 'lossguide', 'subsample': 0.8849104849316123, 'colsample_bytree': 0.9971653787398359, 'min_child_weight': 7}. Best is trial 5 with value: 4.0156005991029495.\n",
      "[I 2025-08-21 15:51:34,383] Trial 22 finished with value: 4.043444015401411 and parameters: {'lambda': 2.0342139423691173e-07, 'alpha': 0.00020168182517427507, 'n_estimators': 771, 'max_depth': 8, 'eta': 0.062296168090363604, 'gamma': 0.025429897328623594, 'grow_policy': 'lossguide', 'subsample': 0.8503562925362605, 'colsample_bytree': 0.9567853455942704, 'min_child_weight': 7}. Best is trial 5 with value: 4.0156005991029495.\n",
      "[I 2025-08-21 15:56:05,229] Trial 23 finished with value: 3.97424679023257 and parameters: {'lambda': 7.700546091143987e-08, 'alpha': 0.0051884873574865095, 'n_estimators': 855, 'max_depth': 9, 'eta': 0.0354597187938607, 'gamma': 0.013796362767696115, 'grow_policy': 'lossguide', 'subsample': 0.885956763982878, 'colsample_bytree': 0.9968458242747026, 'min_child_weight': 8}. Best is trial 23 with value: 3.97424679023257.\n",
      "[I 2025-08-21 16:00:40,193] Trial 24 finished with value: 3.969822575342185 and parameters: {'lambda': 1.0740267731549188e-06, 'alpha': 0.006246888055163917, 'n_estimators': 874, 'max_depth': 9, 'eta': 0.03313916615107624, 'gamma': 0.3570133392355199, 'grow_policy': 'lossguide', 'subsample': 0.8125554193952538, 'colsample_bytree': 0.9117686811829321, 'min_child_weight': 9}. Best is trial 24 with value: 3.969822575342185.\n",
      "[I 2025-08-21 16:05:16,622] Trial 25 finished with value: 3.9858523308639904 and parameters: {'lambda': 1.1491640732705427e-06, 'alpha': 0.008385067686994518, 'n_estimators': 877, 'max_depth': 9, 'eta': 0.03197330447977447, 'gamma': 0.32494745642205686, 'grow_policy': 'lossguide', 'subsample': 0.9505477618642508, 'colsample_bytree': 0.8980116578858242, 'min_child_weight': 10}. Best is trial 24 with value: 3.969822575342185.\n",
      "[I 2025-08-21 16:09:53,651] Trial 26 finished with value: 3.9895972220734692 and parameters: {'lambda': 9.052298758333307e-07, 'alpha': 0.037529099067691585, 'n_estimators': 890, 'max_depth': 9, 'eta': 0.03132072996025145, 'gamma': 0.2246508570461263, 'grow_policy': 'depthwise', 'subsample': 0.9639152402470152, 'colsample_bytree': 0.8950665070640661, 'min_child_weight': 10}. Best is trial 24 with value: 3.969822575342185.\n",
      "[I 2025-08-21 16:11:44,364] Trial 27 finished with value: 4.521324904977134 and parameters: {'lambda': 2.4372274644710413e-05, 'alpha': 0.004435271422448616, 'n_estimators': 883, 'max_depth': 4, 'eta': 0.03960311235717367, 'gamma': 0.0005319590959116886, 'grow_policy': 'lossguide', 'subsample': 0.7991567519471366, 'colsample_bytree': 0.8049408583564909, 'min_child_weight': 9}. Best is trial 24 with value: 3.969822575342185.\n",
      "[I 2025-08-21 16:16:25,878] Trial 28 finished with value: 4.047637875301882 and parameters: {'lambda': 2.573607178425774e-06, 'alpha': 0.0053450418524170935, 'n_estimators': 992, 'max_depth': 9, 'eta': 0.03603473892363958, 'gamma': 1.058889802461659e-08, 'grow_policy': 'lossguide', 'subsample': 0.946209897391183, 'colsample_bytree': 0.6975196738340859, 'min_child_weight': 9}. Best is trial 24 with value: 3.969822575342185.\n",
      "[I 2025-08-21 16:17:37,555] Trial 29 finished with value: 4.262082620821706 and parameters: {'lambda': 1.0366748408150288e-05, 'alpha': 0.8427951595343919, 'n_estimators': 289, 'max_depth': 7, 'eta': 0.026849547841907816, 'gamma': 0.015504018582156042, 'grow_policy': 'lossguide', 'subsample': 0.8781639897048563, 'colsample_bytree': 0.8408926746702299, 'min_child_weight': 8}. Best is trial 24 with value: 3.969822575342185.\n",
      "[I 2025-08-21 16:18:17,740] Trial 30 finished with value: 4.685313285084159 and parameters: {'lambda': 4.01713105740926e-07, 'alpha': 0.04749773800014258, 'n_estimators': 114, 'max_depth': 9, 'eta': 0.017498145512014382, 'gamma': 0.2531430214452058, 'grow_policy': 'lossguide', 'subsample': 0.9860787448448736, 'colsample_bytree': 0.9509778564924142, 'min_child_weight': 8}. Best is trial 24 with value: 3.969822575342185.\n",
      "[I 2025-08-21 16:22:56,660] Trial 31 finished with value: 3.99088408814384 and parameters: {'lambda': 1.8756006233185737e-06, 'alpha': 0.11823805493990028, 'n_estimators': 905, 'max_depth': 9, 'eta': 0.027278888872503407, 'gamma': 0.2349154037395114, 'grow_policy': 'depthwise', 'subsample': 0.9513843392700918, 'colsample_bytree': 0.9029629511122701, 'min_child_weight': 10}. Best is trial 24 with value: 3.969822575342185.\n",
      "[I 2025-08-21 16:28:17,545] Trial 32 finished with value: 3.972401707321631 and parameters: {'lambda': 8.740280168850519e-07, 'alpha': 0.009535262336355852, 'n_estimators': 886, 'max_depth': 9, 'eta': 0.042078190046469, 'gamma': 0.1319330393367433, 'grow_policy': 'depthwise', 'subsample': 0.8155742019637631, 'colsample_bytree': 0.8713866291807258, 'min_child_weight': 10}. Best is trial 24 with value: 3.969822575342185.\n",
      "[I 2025-08-21 16:32:58,692] Trial 33 finished with value: 4.041520073255819 and parameters: {'lambda': 2.392646293844264e-08, 'alpha': 0.009993673535697613, 'n_estimators': 821, 'max_depth': 8, 'eta': 0.039962267447895654, 'gamma': 0.10246618209597265, 'grow_policy': 'depthwise', 'subsample': 0.8134960536481398, 'colsample_bytree': 0.8673217834604814, 'min_child_weight': 9}. Best is trial 24 with value: 3.969822575342185.\n",
      "[I 2025-08-21 16:37:39,330] Trial 34 finished with value: 4.054962379219996 and parameters: {'lambda': 5.788636826671411e-06, 'alpha': 0.0022600948445720415, 'n_estimators': 854, 'max_depth': 8, 'eta': 0.025472838274683027, 'gamma': 0.0861841603241981, 'grow_policy': 'depthwise', 'subsample': 0.7799316980585563, 'colsample_bytree': 0.9529195503206532, 'min_child_weight': 10}. Best is trial 24 with value: 3.969822575342185.\n",
      "[I 2025-08-21 16:43:18,607] Trial 35 finished with value: 3.9655552475939744 and parameters: {'lambda': 3.523918380929331e-05, 'alpha': 0.09042513394902593, 'n_estimators': 920, 'max_depth': 9, 'eta': 0.03582282433707943, 'gamma': 0.010721432427947016, 'grow_policy': 'depthwise', 'subsample': 0.8368514259409537, 'colsample_bytree': 0.9270917718651819, 'min_child_weight': 8}. Best is trial 35 with value: 3.9655552475939744.\n",
      "[I 2025-08-21 16:47:48,030] Trial 36 finished with value: 3.9728426090703737 and parameters: {'lambda': 2.6695910757335282e-05, 'alpha': 0.08413726618706378, 'n_estimators': 735, 'max_depth': 9, 'eta': 0.04698233151956068, 'gamma': 0.012697949522884415, 'grow_policy': 'depthwise', 'subsample': 0.7374056525835417, 'colsample_bytree': 0.9290447719313769, 'min_child_weight': 8}. Best is trial 35 with value: 3.9655552475939744.\n",
      "[I 2025-08-21 16:49:31,716] Trial 37 finished with value: 4.094513684241839 and parameters: {'lambda': 2.8894331182642218e-05, 'alpha': 0.15839226895360484, 'n_estimators': 730, 'max_depth': 8, 'eta': 0.048007536283947244, 'gamma': 6.764855773660766e-05, 'grow_policy': 'depthwise', 'subsample': 0.7067892490882643, 'colsample_bytree': 0.7842570799499533, 'min_child_weight': 9}. Best is trial 35 with value: 3.9655552475939744.\n",
      "[I 2025-08-21 16:50:35,116] Trial 38 finished with value: 4.416716382395663 and parameters: {'lambda': 0.00021764290874184245, 'alpha': 0.878064476931788, 'n_estimators': 932, 'max_depth': 4, 'eta': 0.06890516444724007, 'gamma': 0.0010704048684225277, 'grow_policy': 'depthwise', 'subsample': 0.7456668247076781, 'colsample_bytree': 0.8450333795218276, 'min_child_weight': 8}. Best is trial 35 with value: 3.9655552475939744.\n",
      "[I 2025-08-21 16:51:46,657] Trial 39 finished with value: 3.9937842196663005 and parameters: {'lambda': 0.0007664364868287166, 'alpha': 0.05914415081317063, 'n_estimators': 481, 'max_depth': 9, 'eta': 0.04291292736087863, 'gamma': 0.006203895713471774, 'grow_policy': 'depthwise', 'subsample': 0.6715465878625483, 'colsample_bytree': 0.9209847504412694, 'min_child_weight': 8}. Best is trial 35 with value: 3.9655552475939744.\n",
      "[I 2025-08-21 16:52:53,704] Trial 40 finished with value: 4.122557386829392 and parameters: {'lambda': 5.234081370851427e-05, 'alpha': 0.016441029611316913, 'n_estimators': 635, 'max_depth': 7, 'eta': 0.05239066995771078, 'gamma': 0.019886622863206357, 'grow_policy': 'depthwise', 'subsample': 0.500263204859275, 'colsample_bytree': 0.9270068673892919, 'min_child_weight': 9}. Best is trial 35 with value: 3.9655552475939744.\n",
      "[I 2025-08-21 16:55:00,912] Trial 41 finished with value: 3.9692716513239326 and parameters: {'lambda': 7.107633557436774e-06, 'alpha': 0.08915745640845069, 'n_estimators': 841, 'max_depth': 9, 'eta': 0.03574203632563025, 'gamma': 0.010253827376823165, 'grow_policy': 'depthwise', 'subsample': 0.8261768930371487, 'colsample_bytree': 0.9605164108069799, 'min_child_weight': 8}. Best is trial 35 with value: 3.9655552475939744.\n",
      "[I 2025-08-21 16:57:09,206] Trial 42 finished with value: 3.9764238024856864 and parameters: {'lambda': 7.454417612701698e-06, 'alpha': 0.11007193340180775, 'n_estimators': 826, 'max_depth': 9, 'eta': 0.023747793276296, 'gamma': 0.07759690737627835, 'grow_policy': 'depthwise', 'subsample': 0.8310572639466103, 'colsample_bytree': 0.959355118525395, 'min_child_weight': 8}. Best is trial 35 with value: 3.9655552475939744.\n",
      "[I 2025-08-21 16:59:32,298] Trial 43 finished with value: 3.9589725235098046 and parameters: {'lambda': 2.0135785367905332e-05, 'alpha': 1.0573496641420445e-08, 'n_estimators': 932, 'max_depth': 9, 'eta': 0.03574138964146311, 'gamma': 0.00024099774392731776, 'grow_policy': 'depthwise', 'subsample': 0.7795385965236086, 'colsample_bytree': 0.9364508183537914, 'min_child_weight': 9}. Best is trial 43 with value: 3.9589725235098046.\n",
      "[I 2025-08-21 17:01:58,061] Trial 44 finished with value: 3.991513153976734 and parameters: {'lambda': 0.00011636673093881062, 'alpha': 3.5196118765693726e-07, 'n_estimators': 938, 'max_depth': 9, 'eta': 0.0166435753177711, 'gamma': 2.2805863675302364e-05, 'grow_policy': 'depthwise', 'subsample': 0.7747173788267041, 'colsample_bytree': 0.8638769715814925, 'min_child_weight': 10}. Best is trial 43 with value: 3.9589725235098046.\n",
      "[I 2025-08-21 17:03:57,434] Trial 45 finished with value: 4.091418570389157 and parameters: {'lambda': 5.571933356338462e-06, 'alpha': 0.4687719823117604, 'n_estimators': 923, 'max_depth': 8, 'eta': 0.03508155076930537, 'gamma': 8.323574773032608e-06, 'grow_policy': 'depthwise', 'subsample': 0.8399044717649866, 'colsample_bytree': 0.7172878563650559, 'min_child_weight': 9}. Best is trial 43 with value: 3.9589725235098046.\n",
      "[I 2025-08-21 17:06:17,285] Trial 46 finished with value: 4.210883529732551 and parameters: {'lambda': 4.5778211988818856e-07, 'alpha': 1.1688568220352229e-08, 'n_estimators': 990, 'max_depth': 9, 'eta': 0.019062681341724976, 'gamma': 0.00018681117958853905, 'grow_policy': 'depthwise', 'subsample': 0.8008463208673695, 'colsample_bytree': 0.6104194395138317, 'min_child_weight': 10}. Best is trial 43 with value: 3.9589725235098046.\n",
      "[I 2025-08-21 17:08:11,144] Trial 47 finished with value: 4.1036160504159795 and parameters: {'lambda': 1.880106318990452e-05, 'alpha': 0.01874577614406965, 'n_estimators': 822, 'max_depth': 8, 'eta': 0.012926568783536018, 'gamma': 8.615705354808762e-07, 'grow_policy': 'depthwise', 'subsample': 0.7684815987155594, 'colsample_bytree': 0.9642173985566368, 'min_child_weight': 7}. Best is trial 43 with value: 3.9589725235098046.\n",
      "[I 2025-08-21 17:10:36,538] Trial 48 finished with value: 3.9740494028696687 and parameters: {'lambda': 7.241953896355033e-05, 'alpha': 7.74908488013297e-05, 'n_estimators': 945, 'max_depth': 9, 'eta': 0.02246563277856538, 'gamma': 0.5207386157490193, 'grow_policy': 'depthwise', 'subsample': 0.8198135770764169, 'colsample_bytree': 0.9104095830327998, 'min_child_weight': 9}. Best is trial 43 with value: 3.9589725235098046.\n",
      "[I 2025-08-21 17:12:38,430] Trial 49 finished with value: 4.034072048519471 and parameters: {'lambda': 2.3549049270710676e-06, 'alpha': 0.0022231581120715745, 'n_estimators': 880, 'max_depth': 8, 'eta': 0.04005156711343815, 'gamma': 0.002065055795410134, 'grow_policy': 'depthwise', 'subsample': 0.8491056260206228, 'colsample_bytree': 0.9397305367792137, 'min_child_weight': 9}. Best is trial 43 with value: 3.9589725235098046.\n"
     ]
    },
    {
     "name": "stdout",
     "output_type": "stream",
     "text": [
      "Best hyperparameters: {'lambda': 2.0135785367905332e-05, 'alpha': 1.0573496641420445e-08, 'n_estimators': 932, 'max_depth': 9, 'eta': 0.03574138964146311, 'gamma': 0.00024099774392731776, 'grow_policy': 'depthwise', 'subsample': 0.7795385965236086, 'colsample_bytree': 0.9364508183537914, 'min_child_weight': 9}\n"
     ]
    },
    {
     "data": {
      "text/html": [
       "<style>#sk-container-id-1 {color: black;}#sk-container-id-1 pre{padding: 0;}#sk-container-id-1 div.sk-toggleable {background-color: white;}#sk-container-id-1 label.sk-toggleable__label {cursor: pointer;display: block;width: 100%;margin-bottom: 0;padding: 0.3em;box-sizing: border-box;text-align: center;}#sk-container-id-1 label.sk-toggleable__label-arrow:before {content: \"▸\";float: left;margin-right: 0.25em;color: #696969;}#sk-container-id-1 label.sk-toggleable__label-arrow:hover:before {color: black;}#sk-container-id-1 div.sk-estimator:hover label.sk-toggleable__label-arrow:before {color: black;}#sk-container-id-1 div.sk-toggleable__content {max-height: 0;max-width: 0;overflow: hidden;text-align: left;background-color: #f0f8ff;}#sk-container-id-1 div.sk-toggleable__content pre {margin: 0.2em;color: black;border-radius: 0.25em;background-color: #f0f8ff;}#sk-container-id-1 input.sk-toggleable__control:checked~div.sk-toggleable__content {max-height: 200px;max-width: 100%;overflow: auto;}#sk-container-id-1 input.sk-toggleable__control:checked~label.sk-toggleable__label-arrow:before {content: \"▾\";}#sk-container-id-1 div.sk-estimator input.sk-toggleable__control:checked~label.sk-toggleable__label {background-color: #d4ebff;}#sk-container-id-1 div.sk-label input.sk-toggleable__control:checked~label.sk-toggleable__label {background-color: #d4ebff;}#sk-container-id-1 input.sk-hidden--visually {border: 0;clip: rect(1px 1px 1px 1px);clip: rect(1px, 1px, 1px, 1px);height: 1px;margin: -1px;overflow: hidden;padding: 0;position: absolute;width: 1px;}#sk-container-id-1 div.sk-estimator {font-family: monospace;background-color: #f0f8ff;border: 1px dotted black;border-radius: 0.25em;box-sizing: border-box;margin-bottom: 0.5em;}#sk-container-id-1 div.sk-estimator:hover {background-color: #d4ebff;}#sk-container-id-1 div.sk-parallel-item::after {content: \"\";width: 100%;border-bottom: 1px solid gray;flex-grow: 1;}#sk-container-id-1 div.sk-label:hover label.sk-toggleable__label {background-color: #d4ebff;}#sk-container-id-1 div.sk-serial::before {content: \"\";position: absolute;border-left: 1px solid gray;box-sizing: border-box;top: 0;bottom: 0;left: 50%;z-index: 0;}#sk-container-id-1 div.sk-serial {display: flex;flex-direction: column;align-items: center;background-color: white;padding-right: 0.2em;padding-left: 0.2em;position: relative;}#sk-container-id-1 div.sk-item {position: relative;z-index: 1;}#sk-container-id-1 div.sk-parallel {display: flex;align-items: stretch;justify-content: center;background-color: white;position: relative;}#sk-container-id-1 div.sk-item::before, #sk-container-id-1 div.sk-parallel-item::before {content: \"\";position: absolute;border-left: 1px solid gray;box-sizing: border-box;top: 0;bottom: 0;left: 50%;z-index: -1;}#sk-container-id-1 div.sk-parallel-item {display: flex;flex-direction: column;z-index: 1;position: relative;background-color: white;}#sk-container-id-1 div.sk-parallel-item:first-child::after {align-self: flex-end;width: 50%;}#sk-container-id-1 div.sk-parallel-item:last-child::after {align-self: flex-start;width: 50%;}#sk-container-id-1 div.sk-parallel-item:only-child::after {width: 0;}#sk-container-id-1 div.sk-dashed-wrapped {border: 1px dashed gray;margin: 0 0.4em 0.5em 0.4em;box-sizing: border-box;padding-bottom: 0.4em;background-color: white;}#sk-container-id-1 div.sk-label label {font-family: monospace;font-weight: bold;display: inline-block;line-height: 1.2em;}#sk-container-id-1 div.sk-label-container {text-align: center;}#sk-container-id-1 div.sk-container {/* jupyter's `normalize.less` sets `[hidden] { display: none; }` but bootstrap.min.css set `[hidden] { display: none !important; }` so we also need the `!important` here to be able to override the default hidden behavior on the sphinx rendered scikit-learn.org. See: https://github.com/scikit-learn/scikit-learn/issues/21755 */display: inline-block !important;position: relative;}#sk-container-id-1 div.sk-text-repr-fallback {display: none;}</style><div id=\"sk-container-id-1\" class=\"sk-top-container\"><div class=\"sk-text-repr-fallback\"><pre>XGBRegressor(alpha=1.0573496641420445e-08, base_score=None, booster=None,\n",
       "             callbacks=None, colsample_bylevel=None, colsample_bynode=None,\n",
       "             colsample_bytree=0.9364508183537914, early_stopping_rounds=None,\n",
       "             enable_categorical=False, eta=0.03574138964146311,\n",
       "             eval_metric=None, feature_types=None, gamma=0.00024099774392731776,\n",
       "             gpu_id=None, grow_policy=&#x27;depthwise&#x27;, importance_type=None,\n",
       "             interaction_constraints=None, lambda=2.0135785367905332e-05,\n",
       "             learning_rate=None, max_bin=None, max_cat_threshold=None,\n",
       "             max_cat_to_onehot=None, max_delta_step=None, max_depth=9,\n",
       "             max_leaves=None, min_child_weight=9, missing=nan,\n",
       "             monotone_constraints=None, n_estimators=932, n_jobs=None, ...)</pre><b>In a Jupyter environment, please rerun this cell to show the HTML representation or trust the notebook. <br />On GitHub, the HTML representation is unable to render, please try loading this page with nbviewer.org.</b></div><div class=\"sk-container\" hidden><div class=\"sk-item\"><div class=\"sk-estimator sk-toggleable\"><input class=\"sk-toggleable__control sk-hidden--visually\" id=\"sk-estimator-id-1\" type=\"checkbox\" checked><label for=\"sk-estimator-id-1\" class=\"sk-toggleable__label sk-toggleable__label-arrow\">XGBRegressor</label><div class=\"sk-toggleable__content\"><pre>XGBRegressor(alpha=1.0573496641420445e-08, base_score=None, booster=None,\n",
       "             callbacks=None, colsample_bylevel=None, colsample_bynode=None,\n",
       "             colsample_bytree=0.9364508183537914, early_stopping_rounds=None,\n",
       "             enable_categorical=False, eta=0.03574138964146311,\n",
       "             eval_metric=None, feature_types=None, gamma=0.00024099774392731776,\n",
       "             gpu_id=None, grow_policy=&#x27;depthwise&#x27;, importance_type=None,\n",
       "             interaction_constraints=None, lambda=2.0135785367905332e-05,\n",
       "             learning_rate=None, max_bin=None, max_cat_threshold=None,\n",
       "             max_cat_to_onehot=None, max_delta_step=None, max_depth=9,\n",
       "             max_leaves=None, min_child_weight=9, missing=nan,\n",
       "             monotone_constraints=None, n_estimators=932, n_jobs=None, ...)</pre></div></div></div></div></div>"
      ],
      "text/plain": [
       "XGBRegressor(alpha=1.0573496641420445e-08, base_score=None, booster=None,\n",
       "             callbacks=None, colsample_bylevel=None, colsample_bynode=None,\n",
       "             colsample_bytree=0.9364508183537914, early_stopping_rounds=None,\n",
       "             enable_categorical=False, eta=0.03574138964146311,\n",
       "             eval_metric=None, feature_types=None, gamma=0.00024099774392731776,\n",
       "             gpu_id=None, grow_policy='depthwise', importance_type=None,\n",
       "             interaction_constraints=None, lambda=2.0135785367905332e-05,\n",
       "             learning_rate=None, max_bin=None, max_cat_threshold=None,\n",
       "             max_cat_to_onehot=None, max_delta_step=None, max_depth=9,\n",
       "             max_leaves=None, min_child_weight=9, missing=nan,\n",
       "             monotone_constraints=None, n_estimators=932, n_jobs=None, ...)"
      ]
     },
     "execution_count": 30,
     "metadata": {},
     "output_type": "execute_result"
    }
   ],
   "source": [
    "cape = cape.dropna(subset= features + [target])\n",
    "\n",
    "X = cape[features]\n",
    "y = cape[target]\n",
    "\n",
    "def objective(trial):\n",
    "    param = {\n",
    "        \"verbosity\": 0,\n",
    "        \"objective\": \"reg:squarederror\",\n",
    "        \"booster\": \"gbtree\",\n",
    "        \"lambda\": trial.suggest_float(\"lambda\", 1e-8, 1.0, log=True),\n",
    "        \"alpha\": trial.suggest_float(\"alpha\", 1e-8, 1.0, log=True),\n",
    "        \"n_estimators\": trial.suggest_int(\"n_estimators\", 100, 1000),\n",
    "        \"max_depth\": trial.suggest_int(\"max_depth\", 3, 9),\n",
    "        \"eta\": trial.suggest_float(\"eta\", 0.01, 0.3, log=True),\n",
    "        \"gamma\": trial.suggest_float(\"gamma\", 1e-8, 1.0, log=True),\n",
    "        \"grow_policy\": trial.suggest_categorical(\"grow_policy\", [\"depthwise\", \"lossguide\"]),\n",
    "        \"subsample\": trial.suggest_float(\"subsample\", 0.5, 1.0),\n",
    "        \"colsample_bytree\": trial.suggest_float(\"colsample_bytree\", 0.5, 1.0),\n",
    "        \"min_child_weight\": trial.suggest_int(\"min_child_weight\", 1, 10),\n",
    "    }\n",
    "    \n",
    "    #define XGBRegressor and use rmse as eval metric\n",
    "    model = xgb.XGBRegressor(**param, eval_metric='rmse', use_label_encoder=False)\n",
    "\n",
    "    #set up KFold CV\n",
    "    kf = KFold(n_splits=5, shuffle=True, random_state=13)\n",
    "    rmse_scores = cross_val_score(model, X, y, scoring='neg_root_mean_squared_error', cv=kf, n_jobs=1)\n",
    "    \n",
    "    return -np.mean(rmse_scores)\n",
    "\n",
    "#initialize Optuna study\n",
    "study = optuna.create_study(direction=\"minimize\")\n",
    "study.optimize(objective, n_trials=50, n_jobs=1)\n",
    "\n",
    "print(\"Best hyperparameters:\", study.best_params)\n",
    "best_params = study.best_params\n",
    "\n",
    "#train final model with best params\n",
    "ivb_model = xgb.XGBRegressor(**best_params)\n",
    "ivb_model.fit(X, y)"
   ]
  },
  {
   "cell_type": "code",
   "execution_count": 31,
   "metadata": {},
   "outputs": [
    {
     "data": {
      "image/png": "[encoded data removed]",
      "text/plain": [
       "<Figure size 1000x600 with 1 Axes>"
      ]
     },
     "metadata": {},
     "output_type": "display_data"
    }
   ],
   "source": [
    "import matplotlib.pyplot as plt\n",
    "import xgboost as xgb\n",
    "\n",
    "# Extract feature importances\n",
    "feature_importances = ivb_model.feature_importances_\n",
    "feature_names = X.columns\n",
    "\n",
    "# Create a DataFrame for better visualization\n",
    "importances_college_data = pd.DataFrame({\n",
    "    'Feature': feature_names,\n",
    "    'Importance': feature_importances\n",
    "}).sort_values(by='Importance', ascending=False)\n",
    "\n",
    "# Plot feature importances\n",
    "plt.figure(figsize=(10, 6))\n",
    "plt.barh(importances_college_data['Feature'], importances_college_data['Importance'], edgecolor='black')\n",
    "plt.gca().invert_yaxis()  # Invert y-axis to show the highest importance at the top\n",
    "plt.title('Feature Importance')\n",
    "plt.xlabel('Importance')\n",
    "plt.ylabel('Feature')\n",
    "plt.grid(axis='x', linestyle='--', alpha=0.7)\n",
    "plt.show()\n"
   ]
  },
  {
   "cell_type": "code",
   "execution_count": 32,
   "metadata": {},
   "outputs": [],
   "source": [
    "with open('ivb_model.pkl', 'wb') as file:\n",
    "    pickle.dump(ivb_model, file)\n",
    "\n",
    "# Load the model\n",
    "with open('ivb_model.pkl', 'rb') as file:\n",
    "    ivb_model = pickle.load(file)"
   ]
  },
  {
   "cell_type": "code",
   "execution_count": 33,
   "metadata": {},
   "outputs": [],
   "source": [
    "college_data['xiVB'] = ivb_model.predict(college_data[features])\n",
    "\n",
    "college_data = college_data[~(college_data['InducedVertBreak'] >= 30)]\n",
    "college_data['iVB_oe'] = college_data['InducedVertBreak'] - college_data['xiVB']"
   ]
  },
  {
   "cell_type": "markdown",
   "metadata": {},
   "source": [
    "## Location Model"
   ]
  },
  {
   "cell_type": "code",
   "execution_count": 35,
   "metadata": {},
   "outputs": [
    {
     "data": {
      "text/plain": [
       "(1098095, 179)"
      ]
     },
     "execution_count": 35,
     "metadata": {},
     "output_type": "execute_result"
    }
   ],
   "source": [
    "college_data.shape"
   ]
  },
  {
   "cell_type": "code",
   "execution_count": 36,
   "metadata": {},
   "outputs": [],
   "source": [
    "fastballs = ['Fastball', 'Sinker', 'Cutter']\n",
    "college_fb = college_data[college_data['pitch_type'].isin(fastballs)]\n",
    "\n",
    "most_common_fb = college_fb.groupby(['PitcherId', 'BatterSide'])['pitch_type'].agg(lambda x: x.mode().iloc[0]).reset_index()\n",
    "most_common_fb = most_common_fb.rename(columns={'pitch_type': 'most_common_fb'})\n",
    "\n",
    "college_fb = college_fb.merge(most_common_fb, on=['PitcherId', 'BatterSide'], how='left')\n",
    "\n",
    "college_fb_filtered = college_fb[college_fb['pitch_type'] == college_fb['most_common_fb']]\n",
    "\n",
    "average_metrics = college_fb_filtered.groupby(['PitcherId', 'BatterSide', 'most_common_fb']).agg({\n",
    "    'RelSpeed': 'mean',\n",
    "    'release_pos_x': 'mean',\n",
    "    'release_pos_z': 'mean',\n",
    "    'HorzBreak': 'mean',\n",
    "    'InducedVertBreak': 'mean'\n",
    "}).reset_index()\n",
    "\n",
    "average_metrics = average_metrics.rename(columns={\n",
    "    'RelSpeed': 'avg_RelSpeed',\n",
    "    'release_pos_x': 'avg_release_pos_x',\n",
    "    'release_pos_z': 'avg_release_pos_z',\n",
    "    'HorzBreak': 'avg_HorzBreak',\n",
    "    'InducedVertBreak': 'avg_InducedVertBreak'\n",
    "})\n",
    "\n",
    "college_data = college_data.merge(average_metrics, on=['PitcherId', 'BatterSide'], how='left')"
   ]
  },
  {
   "cell_type": "code",
   "execution_count": 37,
   "metadata": {},
   "outputs": [],
   "source": [
    "conditions = [\n",
    "    (college_data['BatterSide'] == 'Left') & (college_data['PitcherThrows'] == 1),\n",
    "    (college_data['BatterSide'] == 'Left') & (college_data['PitcherThrows'] == 0),  \n",
    "    (college_data['BatterSide'] == 'Right') & (college_data['PitcherThrows'] == 1),  \n",
    "    (college_data['BatterSide'] == 'Right') & (college_data['PitcherThrows'] == 0) \n",
    "]\n",
    "\n",
    "values = [0, 1, 2, 3]\n",
    "\n",
    "college_data['platoon_state'] = np.select(conditions, values)\n",
    "\n",
    "count_mapping = {\n",
    "    (0, 0): 0,\n",
    "    (0, 1): 1,\n",
    "    (0, 2): 2,\n",
    "    (1, 0): 3,\n",
    "    (1, 1): 4,\n",
    "    (1, 2): 5,\n",
    "    (2, 0): 6,\n",
    "    (2, 1): 7,\n",
    "    (2, 2): 8,\n",
    "    (3, 0): 9,\n",
    "    (3, 1): 10,\n",
    "    (3, 2): 11\n",
    "}\n",
    "\n",
    "college_data['count'] = college_data[['Balls', 'Strikes']].apply(tuple, axis=1).map(count_mapping)"
   ]
  },
  {
   "cell_type": "code",
   "execution_count": null,
   "metadata": {},
   "outputs": [],
   "source": [
    "loc_features = ['RelSpeed', 'release_pos_x', 'release_pos_z', 'platoon_state', \n",
    "                'count', 'HorzBreak', 'InducedVertBreak', 'release_extension',\n",
    "                'SpinRate', 'PlateLocHeight', 'PlateLocSide', 'SpinAxis', \n",
    "                'arm_angle', 'VertApprAngle', 'iVB_oe']\n",
    "\n",
    "loc_target = 'delta_run_exp'"
   ]
  },
  {
   "cell_type": "code",
   "execution_count": 39,
   "metadata": {},
   "outputs": [],
   "source": [
    "college_data = college_data[\n",
    "    ~(\n",
    "        ((college_data['pitch_type'] == 'Fastball') & (college_data['RelSpeed'] < 88)) |  # Fastball with RelSpeed < 88\n",
    "        ((college_data['pitch_type'] == 'Sinker') & (college_data['RelSpeed'] < 85)) |    # Sinker with RelSpeed < 85\n",
    "        (college_data['RelSpeed'] < 70)                                                   # Any pitch with RelSpeed < 70\n",
    "    )\n",
    "]"
   ]
  },
  {
   "cell_type": "code",
   "execution_count": 40,
   "metadata": {},
   "outputs": [
    {
     "name": "stderr",
     "output_type": "stream",
     "text": [
      "[I 2025-08-21 18:47:38,261] A new study created in memory with name: no-name-e7b37169-d80e-47dd-8005-5f38cfa4a8c3\n",
      "[I 2025-08-21 18:51:46,853] Trial 0 finished with value: 0.20971268061156004 and parameters: {'iterations': 1159, 'learning_rate': 0.001055576076793158, 'depth': 7, 'min_data_in_leaf': 19, 'l2_leaf_reg': 3.409323184367688, 'border_count': 137, 'bagging_temperature': 1.4177072118731981, 'random_strength': 0.07427369429518549}. Best is trial 0 with value: 0.20971268061156004.\n",
      "[I 2025-08-21 18:53:16,523] Trial 1 finished with value: 0.2110302181652166 and parameters: {'iterations': 684, 'learning_rate': 0.0010536262501665615, 'depth': 4, 'min_data_in_leaf': 100, 'l2_leaf_reg': 0.0055783834698406, 'border_count': 103, 'bagging_temperature': 1.0988165272425572, 'random_strength': 0.004886753496910145}. Best is trial 0 with value: 0.20971268061156004.\n",
      "[I 2025-08-21 18:55:25,051] Trial 2 finished with value: 0.20862001401041833 and parameters: {'iterations': 1291, 'learning_rate': 0.0785932940328919, 'depth': 2, 'min_data_in_leaf': 42, 'l2_leaf_reg': 0.002214222452067825, 'border_count': 95, 'bagging_temperature': 0.10646951296949031, 'random_strength': 0.3648293222376892}. Best is trial 2 with value: 0.20862001401041833.\n",
      "[I 2025-08-21 18:58:07,988] Trial 3 finished with value: 0.20788823852639388 and parameters: {'iterations': 895, 'learning_rate': 0.01325372763843161, 'depth': 8, 'min_data_in_leaf': 91, 'l2_leaf_reg': 1.143227955116819, 'border_count': 199, 'bagging_temperature': 1.5938736596840657, 'random_strength': 0.003263716179050857}. Best is trial 3 with value: 0.20788823852639388.\n",
      "[I 2025-08-21 18:59:27,135] Trial 4 finished with value: 0.21137980313422458 and parameters: {'iterations': 841, 'learning_rate': 0.003967441206650335, 'depth': 1, 'min_data_in_leaf': 28, 'l2_leaf_reg': 0.019624705553947616, 'border_count': 96, 'bagging_temperature': 0.8549114130205918, 'random_strength': 0.01510119157781155}. Best is trial 3 with value: 0.20788823852639388.\n",
      "[I 2025-08-21 19:01:39,444] Trial 5 finished with value: 0.21113848956662498 and parameters: {'iterations': 1370, 'learning_rate': 0.004247444012351354, 'depth': 1, 'min_data_in_leaf': 12, 'l2_leaf_reg': 0.6804781255464017, 'border_count': 149, 'bagging_temperature': 1.5384541670982876, 'random_strength': 5.33245221286942}. Best is trial 3 with value: 0.20788823852639388.\n",
      "[I 2025-08-21 19:04:13,715] Trial 6 finished with value: 0.2102293140882682 and parameters: {'iterations': 1372, 'learning_rate': 0.0015758226955289367, 'depth': 3, 'min_data_in_leaf': 20, 'l2_leaf_reg': 0.12190275534318536, 'border_count': 143, 'bagging_temperature': 2.2896930444202197, 'random_strength': 0.07161701457686072}. Best is trial 3 with value: 0.20788823852639388.\n",
      "[I 2025-08-21 19:06:36,854] Trial 7 finished with value: 0.20867340177930122 and parameters: {'iterations': 1362, 'learning_rate': 0.06315946338544509, 'depth': 2, 'min_data_in_leaf': 81, 'l2_leaf_reg': 0.0017470755900389212, 'border_count': 163, 'bagging_temperature': 2.2283859291519406, 'random_strength': 0.0041040957191355145}. Best is trial 3 with value: 0.20788823852639388.\n",
      "[I 2025-08-21 19:08:14,718] Trial 8 finished with value: 0.20876490709387654 and parameters: {'iterations': 580, 'learning_rate': 0.00810851958115775, 'depth': 6, 'min_data_in_leaf': 9, 'l2_leaf_reg': 0.022993592026466197, 'border_count': 45, 'bagging_temperature': 0.3895563543594683, 'random_strength': 0.03343462772404965}. Best is trial 3 with value: 0.20788823852639388.\n",
      "[I 2025-08-21 19:20:34,153] Trial 9 finished with value: 0.20829667143760475 and parameters: {'iterations': 1306, 'learning_rate': 0.0029178250827669033, 'depth': 10, 'min_data_in_leaf': 54, 'l2_leaf_reg': 7.856964822413675, 'border_count': 66, 'bagging_temperature': 0.870324627922091, 'random_strength': 0.29954094489614}. Best is trial 3 with value: 0.20788823852639388.\n",
      "[I 2025-08-21 19:21:58,434] Trial 10 finished with value: 0.20820867790813974 and parameters: {'iterations': 211, 'learning_rate': 0.023587955204757708, 'depth': 9, 'min_data_in_leaf': 72, 'l2_leaf_reg': 0.3536434492781366, 'border_count': 242, 'bagging_temperature': 9.45863914168917, 'random_strength': 0.0013417859073179867}. Best is trial 3 with value: 0.20788823852639388.\n",
      "[I 2025-08-21 19:22:51,415] Trial 11 finished with value: 0.20858056048842974 and parameters: {'iterations': 117, 'learning_rate': 0.024984940307224954, 'depth': 9, 'min_data_in_leaf': 78, 'l2_leaf_reg': 0.6365778947350664, 'border_count': 239, 'bagging_temperature': 6.410294142400679, 'random_strength': 0.0010768726334035718}. Best is trial 3 with value: 0.20788823852639388.\n",
      "[I 2025-08-21 19:23:35,756] Trial 12 finished with value: 0.20888352590855855 and parameters: {'iterations': 111, 'learning_rate': 0.02164820787255564, 'depth': 8, 'min_data_in_leaf': 75, 'l2_leaf_reg': 0.577645567689118, 'border_count': 243, 'bagging_temperature': 9.61705853897828, 'random_strength': 0.0010245085369499972}. Best is trial 3 with value: 0.20788823852639388.\n",
      "[I 2025-08-21 19:28:33,256] Trial 13 finished with value: 0.20784514542302546 and parameters: {'iterations': 416, 'learning_rate': 0.01870729065695249, 'depth': 10, 'min_data_in_leaf': 91, 'l2_leaf_reg': 0.10909496574430298, 'border_count': 209, 'bagging_temperature': 4.268343013700798, 'random_strength': 0.004972413880718618}. Best is trial 13 with value: 0.20784514542302546.\n",
      "[I 2025-08-21 19:33:38,206] Trial 14 finished with value: 0.20805512348438066 and parameters: {'iterations': 461, 'learning_rate': 0.011308612074580707, 'depth': 10, 'min_data_in_leaf': 100, 'l2_leaf_reg': 0.0631237675933754, 'border_count': 206, 'bagging_temperature': 4.0873405474736835, 'random_strength': 0.0077638779407048905}. Best is trial 13 with value: 0.20784514542302546.\n",
      "[I 2025-08-21 19:39:04,411] Trial 15 finished with value: 0.20809304433259618 and parameters: {'iterations': 978, 'learning_rate': 0.010558793535436905, 'depth': 7, 'min_data_in_leaf': 60, 'l2_leaf_reg': 2.332202288415591, 'border_count': 199, 'bagging_temperature': 0.4258595209498855, 'random_strength': 0.014699225493001736}. Best is trial 13 with value: 0.20784514542302546.\n",
      "[I 2025-08-21 19:41:02,549] Trial 16 finished with value: 0.2083540811216921 and parameters: {'iterations': 411, 'learning_rate': 0.041040418011652015, 'depth': 5, 'min_data_in_leaf': 85, 'l2_leaf_reg': 0.17085911814599763, 'border_count': 195, 'bagging_temperature': 4.6625014053921925, 'random_strength': 1.991339628595336}. Best is trial 13 with value: 0.20784514542302546.\n",
      "[I 2025-08-21 19:47:03,607] Trial 17 finished with value: 0.2077618811663573 and parameters: {'iterations': 988, 'learning_rate': 0.01675922811612065, 'depth': 8, 'min_data_in_leaf': 88, 'l2_leaf_reg': 1.855727809289019, 'border_count': 179, 'bagging_temperature': 2.9886910805412397, 'random_strength': 0.002940091967009311}. Best is trial 17 with value: 0.2077618811663573.\n",
      "[I 2025-08-21 19:54:24,803] Trial 18 finished with value: 0.20750776459014783 and parameters: {'iterations': 1078, 'learning_rate': 0.04322959195831239, 'depth': 9, 'min_data_in_leaf': 64, 'l2_leaf_reg': 6.321531772815871, 'border_count': 172, 'bagging_temperature': 3.450216314077113, 'random_strength': 0.31286492478824063}. Best is trial 18 with value: 0.20750776459014783.\n",
      "[I 2025-08-21 20:00:32,421] Trial 19 finished with value: 0.2077395093375595 and parameters: {'iterations': 1106, 'learning_rate': 0.046673978322004823, 'depth': 6, 'min_data_in_leaf': 61, 'l2_leaf_reg': 6.9040594479937765, 'border_count': 164, 'bagging_temperature': 3.008076946781236, 'random_strength': 0.3962354529715032}. Best is trial 18 with value: 0.20750776459014783.\n",
      "[I 2025-08-21 20:06:53,244] Trial 20 finished with value: 0.20789633617062594 and parameters: {'iterations': 1131, 'learning_rate': 0.04355421752121427, 'depth': 5, 'min_data_in_leaf': 39, 'l2_leaf_reg': 9.543998909283914, 'border_count': 121, 'bagging_temperature': 0.517607894834731, 'random_strength': 0.6516561427358452}. Best is trial 18 with value: 0.20750776459014783.\n",
      "[I 2025-08-21 20:13:30,817] Trial 21 finished with value: 0.20765654155751792 and parameters: {'iterations': 1045, 'learning_rate': 0.039460527456565336, 'depth': 7, 'min_data_in_leaf': 62, 'l2_leaf_reg': 2.896319796149705, 'border_count': 172, 'bagging_temperature': 2.482048288213269, 'random_strength': 0.19189298540698135}. Best is trial 18 with value: 0.20750776459014783.\n",
      "[I 2025-08-21 20:18:12,861] Trial 22 finished with value: 0.20768864442858753 and parameters: {'iterations': 1100, 'learning_rate': 0.09914685826999434, 'depth': 6, 'min_data_in_leaf': 62, 'l2_leaf_reg': 4.3212165118610235, 'border_count': 171, 'bagging_temperature': 2.7371050059520776, 'random_strength': 0.2161478816297696}. Best is trial 18 with value: 0.20750776459014783.\n",
      "[I 2025-08-21 20:22:01,637] Trial 23 finished with value: 0.20764966395442555 and parameters: {'iterations': 741, 'learning_rate': 0.09419227432219565, 'depth': 7, 'min_data_in_leaf': 66, 'l2_leaf_reg': 4.148156493349886, 'border_count': 175, 'bagging_temperature': 5.515078883549882, 'random_strength': 0.16971012016222217}. Best is trial 18 with value: 0.20750776459014783.\n",
      "[I 2025-08-21 20:26:16,808] Trial 24 finished with value: 0.2078011296959256 and parameters: {'iterations': 716, 'learning_rate': 0.032975135124094716, 'depth': 7, 'min_data_in_leaf': 70, 'l2_leaf_reg': 1.5617420430878588, 'border_count': 185, 'bagging_temperature': 6.3279086761095416, 'random_strength': 1.0645335999513688}. Best is trial 18 with value: 0.20750776459014783.\n",
      "[I 2025-08-21 20:31:10,671] Trial 25 finished with value: 0.2075146303667658 and parameters: {'iterations': 1496, 'learning_rate': 0.06370025089234584, 'depth': 9, 'min_data_in_leaf': 46, 'l2_leaf_reg': 4.399613976110182, 'border_count': 219, 'bagging_temperature': 6.028943576908667, 'random_strength': 0.17630904096860212}. Best is trial 18 with value: 0.20750776459014783.\n",
      "[I 2025-08-21 20:35:06,732] Trial 26 finished with value: 0.20751604660797146 and parameters: {'iterations': 1246, 'learning_rate': 0.06332082509502694, 'depth': 9, 'min_data_in_leaf': 34, 'l2_leaf_reg': 4.423050163143964, 'border_count': 215, 'bagging_temperature': 5.843425335118094, 'random_strength': 0.09767136732606604}. Best is trial 18 with value: 0.20750776459014783.\n",
      "[I 2025-08-21 20:39:15,108] Trial 27 finished with value: 0.20751640825707365 and parameters: {'iterations': 1488, 'learning_rate': 0.05944727380849119, 'depth': 9, 'min_data_in_leaf': 41, 'l2_leaf_reg': 1.1743558190591568, 'border_count': 222, 'bagging_temperature': 7.830343004717183, 'random_strength': 0.04323885482398755}. Best is trial 18 with value: 0.20750776459014783.\n",
      "[I 2025-08-21 20:44:00,479] Trial 28 finished with value: 0.20752181193473476 and parameters: {'iterations': 1242, 'learning_rate': 0.05772535255178746, 'depth': 9, 'min_data_in_leaf': 49, 'l2_leaf_reg': 0.2668954912359793, 'border_count': 225, 'bagging_temperature': 4.006346991666944, 'random_strength': 1.4110343541513908}. Best is trial 18 with value: 0.20750776459014783.\n",
      "[I 2025-08-21 20:51:10,776] Trial 29 finished with value: 0.20756569582740259 and parameters: {'iterations': 1500, 'learning_rate': 0.029912136487632707, 'depth': 8, 'min_data_in_leaf': 32, 'l2_leaf_reg': 4.485908522648037, 'border_count': 222, 'bagging_temperature': 0.10596674790168108, 'random_strength': 0.0999962932426833}. Best is trial 18 with value: 0.20750776459014783.\n",
      "[I 2025-08-21 20:55:23,497] Trial 30 finished with value: 0.20756944835925223 and parameters: {'iterations': 1210, 'learning_rate': 0.0731826877110676, 'depth': 10, 'min_data_in_leaf': 1, 'l2_leaf_reg': 0.045467320177792585, 'border_count': 127, 'bagging_temperature': 7.483748741082333, 'random_strength': 2.841113421380122}. Best is trial 18 with value: 0.20750776459014783.\n",
      "[I 2025-08-21 21:00:15,244] Trial 31 finished with value: 0.20750532261488272 and parameters: {'iterations': 1490, 'learning_rate': 0.05342588962250466, 'depth': 9, 'min_data_in_leaf': 49, 'l2_leaf_reg': 1.2001944616643858, 'border_count': 220, 'bagging_temperature': 7.584301864392964, 'random_strength': 0.05219787503286904}. Best is trial 31 with value: 0.20750532261488272.\n",
      "[I 2025-08-21 21:05:49,293] Trial 32 finished with value: 0.20749346989942946 and parameters: {'iterations': 1431, 'learning_rate': 0.05292784169537698, 'depth': 9, 'min_data_in_leaf': 52, 'l2_leaf_reg': 4.918271446487117, 'border_count': 230, 'bagging_temperature': 5.3525256876730305, 'random_strength': 0.05262962604809938}. Best is trial 32 with value: 0.20749346989942946.\n",
      "[I 2025-08-21 21:13:59,052] Trial 33 finished with value: 0.2075491494946727 and parameters: {'iterations': 1451, 'learning_rate': 0.031717520801157195, 'depth': 8, 'min_data_in_leaf': 49, 'l2_leaf_reg': 2.242459812088814, 'border_count': 254, 'bagging_temperature': 3.540672917943934, 'random_strength': 0.050600306111243464}. Best is trial 32 with value: 0.20749346989942946.\n",
      "[I 2025-08-21 21:19:10,801] Trial 34 finished with value: 0.20751949276386722 and parameters: {'iterations': 1425, 'learning_rate': 0.050336953282337095, 'depth': 9, 'min_data_in_leaf': 52, 'l2_leaf_reg': 6.635629916266127, 'border_count': 230, 'bagging_temperature': 5.011671615825188, 'random_strength': 0.0217857985293758}. Best is trial 32 with value: 0.20749346989942946.\n",
      "[I 2025-08-21 21:23:41,899] Trial 35 finished with value: 0.20753091210748056 and parameters: {'iterations': 1344, 'learning_rate': 0.08518257970332095, 'depth': 10, 'min_data_in_leaf': 45, 'l2_leaf_reg': 0.9935588685835546, 'border_count': 252, 'bagging_temperature': 0.2056002026451507, 'random_strength': 0.597399020381905}. Best is trial 32 with value: 0.20749346989942946.\n",
      "[I 2025-08-21 21:30:10,854] Trial 36 finished with value: 0.20801264396104244 and parameters: {'iterations': 1192, 'learning_rate': 0.007640476071169994, 'depth': 8, 'min_data_in_leaf': 56, 'l2_leaf_reg': 2.9697680884633737, 'border_count': 194, 'bagging_temperature': 1.8764513953730528, 'random_strength': 0.14209962376967333}. Best is trial 32 with value: 0.20749346989942946.\n",
      "[I 2025-08-21 21:38:51,817] Trial 37 finished with value: 0.20759894502392823 and parameters: {'iterations': 1396, 'learning_rate': 0.014575858124919473, 'depth': 9, 'min_data_in_leaf': 28, 'l2_leaf_reg': 0.006452832206815914, 'border_count': 236, 'bagging_temperature': 1.0845115152851392, 'random_strength': 0.02584373462862319}. Best is trial 32 with value: 0.20749346989942946.\n",
      "[I 2025-08-21 21:43:26,048] Trial 38 finished with value: 0.20751171733694052 and parameters: {'iterations': 1284, 'learning_rate': 0.07607621541238473, 'depth': 10, 'min_data_in_leaf': 45, 'l2_leaf_reg': 1.0297225797504697, 'border_count': 214, 'bagging_temperature': 7.564015396362545, 'random_strength': 0.05771652837472246}. Best is trial 32 with value: 0.20749346989942946.\n",
      "[I 2025-08-21 21:47:00,170] Trial 39 finished with value: 0.20755453322231202 and parameters: {'iterations': 1300, 'learning_rate': 0.0781741384434267, 'depth': 10, 'min_data_in_leaf': 37, 'l2_leaf_reg': 0.40376161476944317, 'border_count': 153, 'bagging_temperature': 7.965244973260367, 'random_strength': 0.011865585767868522}. Best is trial 32 with value: 0.20749346989942946.\n",
      "[I 2025-08-21 21:49:53,381] Trial 40 finished with value: 0.20853472145663848 and parameters: {'iterations': 943, 'learning_rate': 0.035729883956896566, 'depth': 3, 'min_data_in_leaf': 56, 'l2_leaf_reg': 0.0010717024949753234, 'border_count': 187, 'bagging_temperature': 1.3419299677762049, 'random_strength': 0.06406859789347356}. Best is trial 32 with value: 0.20749346989942946.\n",
      "[I 2025-08-21 21:54:36,051] Trial 41 finished with value: 0.20755137569356236 and parameters: {'iterations': 1439, 'learning_rate': 0.07055076407827231, 'depth': 9, 'min_data_in_leaf': 45, 'l2_leaf_reg': 0.9917342377133516, 'border_count': 213, 'bagging_temperature': 6.8566730071814215, 'random_strength': 0.1003339175347938}. Best is trial 32 with value: 0.20749346989942946.\n",
      "[I 2025-08-21 22:07:03,557] Trial 42 finished with value: 0.20745508403912 and parameters: {'iterations': 1287, 'learning_rate': 0.05267429798149583, 'depth': 10, 'min_data_in_leaf': 47, 'l2_leaf_reg': 1.4285909307701778, 'border_count': 207, 'bagging_temperature': 9.294522440053811, 'random_strength': 0.037645229595457345}. Best is trial 42 with value: 0.20745508403912.\n",
      "[I 2025-08-21 22:20:47,268] Trial 43 finished with value: 0.20746448660201694 and parameters: {'iterations': 1336, 'learning_rate': 0.04816841146619034, 'depth': 10, 'min_data_in_leaf': 27, 'l2_leaf_reg': 1.3330203672210101, 'border_count': 208, 'bagging_temperature': 9.971484267638681, 'random_strength': 0.0407005286858386}. Best is trial 42 with value: 0.20745508403912.\n",
      "[I 2025-08-21 22:42:15,714] Trial 44 finished with value: 0.20744374871104992 and parameters: {'iterations': 1348, 'learning_rate': 0.02732050546454226, 'depth': 10, 'min_data_in_leaf': 11, 'l2_leaf_reg': 1.5089755802756102, 'border_count': 201, 'bagging_temperature': 9.194738926986604, 'random_strength': 0.032463290036177456}. Best is trial 44 with value: 0.20744374871104992.\n",
      "[I 2025-08-21 22:58:39,212] Trial 45 finished with value: 0.2074209263052329 and parameters: {'iterations': 1371, 'learning_rate': 0.02746150389789248, 'depth': 10, 'min_data_in_leaf': 21, 'l2_leaf_reg': 0.6033632384434426, 'border_count': 202, 'bagging_temperature': 9.965158539458555, 'random_strength': 0.029967286460853663}. Best is trial 45 with value: 0.2074209263052329.\n",
      "[I 2025-08-21 23:13:14,676] Trial 46 finished with value: 0.2074324645962517 and parameters: {'iterations': 1357, 'learning_rate': 0.024424443206049987, 'depth': 10, 'min_data_in_leaf': 18, 'l2_leaf_reg': 0.5116709478556424, 'border_count': 203, 'bagging_temperature': 9.420768764324658, 'random_strength': 0.023702356778132764}. Best is trial 45 with value: 0.2074209263052329.\n",
      "[I 2025-08-21 23:27:33,120] Trial 47 finished with value: 0.20743756035082778 and parameters: {'iterations': 1332, 'learning_rate': 0.02414336758646521, 'depth': 10, 'min_data_in_leaf': 19, 'l2_leaf_reg': 0.47003026296283607, 'border_count': 204, 'bagging_temperature': 9.594883774314676, 'random_strength': 0.02589638438277422}. Best is trial 45 with value: 0.2074209263052329.\n",
      "[I 2025-08-21 23:40:00,624] Trial 48 finished with value: 0.2074548547314418 and parameters: {'iterations': 1175, 'learning_rate': 0.025767221509861025, 'depth': 10, 'min_data_in_leaf': 16, 'l2_leaf_reg': 0.24768266857550533, 'border_count': 186, 'bagging_temperature': 9.903808918089414, 'random_strength': 0.009605954716475944}. Best is trial 45 with value: 0.2074209263052329.\n",
      "[I 2025-08-21 23:51:53,143] Trial 49 finished with value: 0.20745849446062978 and parameters: {'iterations': 1157, 'learning_rate': 0.024415702802424364, 'depth': 10, 'min_data_in_leaf': 17, 'l2_leaf_reg': 0.1822614016621695, 'border_count': 154, 'bagging_temperature': 9.79572413262664, 'random_strength': 0.007696573603987545}. Best is trial 45 with value: 0.2074209263052329.\n"
     ]
    },
    {
     "name": "stdout",
     "output_type": "stream",
     "text": [
      "Best CatBoost Params: {'iterations': 1371, 'learning_rate': 0.02746150389789248, 'depth': 10, 'min_data_in_leaf': 21, 'l2_leaf_reg': 0.6033632384434426, 'border_count': 202, 'bagging_temperature': 9.965158539458555, 'random_strength': 0.029967286460853663}\n"
     ]
    }
   ],
   "source": [
    "df = college_data.dropna(subset=loc_features + [loc_target])\n",
    "\n",
    "X = df[loc_features]\n",
    "y = df[loc_target]\n",
    "\n",
    "best_rmse = float('inf')\n",
    "best_catboost_model = None\n",
    "\n",
    "def catboost_objective(trial):\n",
    "    global best_rmse, best_catboost_model\n",
    "\n",
    "    # Define hyperparameters for optimization\n",
    "    params = {\n",
    "        'iterations': trial.suggest_int('iterations', 100, 1500),\n",
    "        'learning_rate': trial.suggest_float('learning_rate', 1e-3, 1e-1, log=True),\n",
    "        'depth': trial.suggest_int('depth', 1, 10),\n",
    "        'min_data_in_leaf': trial.suggest_int('min_data_in_leaf', 1, 100),\n",
    "        'l2_leaf_reg': trial.suggest_float('l2_leaf_reg', 1e-3, 10.0, log=True),\n",
    "        'border_count': trial.suggest_int('border_count', 32, 255),\n",
    "        'bagging_temperature': trial.suggest_float('bagging_temperature', 1e-1, 10.0, log=True),\n",
    "        'random_strength': trial.suggest_float('random_strength', 1e-3, 10.0, log=True),\n",
    "    }\n",
    "\n",
    "    cv = KFold(n_splits=5, shuffle=True, random_state=13)\n",
    "    cv_scores = []\n",
    "\n",
    "    for train_idx, val_idx in cv.split(X, y):\n",
    "        cat_X_train, cat_X_val = X.iloc[train_idx], X.iloc[val_idx]\n",
    "        cat_y_train, cat_y_val = y.iloc[train_idx], y.iloc[val_idx]\n",
    "\n",
    "        # Train the CatBoost model\n",
    "        catboost_model = CatBoostRegressor(**params, random_seed=13, verbose=0)\n",
    "        catboost_model.fit(cat_X_train, cat_y_train, eval_set=(cat_X_val, cat_y_val), early_stopping_rounds=50, verbose=0)\n",
    "\n",
    "        cat_y_pred = catboost_model.predict(cat_X_val)\n",
    "\n",
    "        # Calculate RMSE\n",
    "        rmse = np.sqrt(mean_squared_error(cat_y_val, cat_y_pred))\n",
    "        cv_scores.append(rmse)\n",
    "\n",
    "    mean_rmse = np.mean(cv_scores)\n",
    "\n",
    "    # Save the best model based on RMSE\n",
    "    if mean_rmse < best_rmse:\n",
    "        best_rmse = mean_rmse\n",
    "        best_catboost_model = catboost_model\n",
    "\n",
    "    return mean_rmse\n",
    "\n",
    "# Create and run Optuna study, optimizing to minimize RMSE\n",
    "catboost_study = optuna.create_study(direction='minimize') \n",
    "catboost_study.optimize(catboost_objective, n_trials=50)\n",
    "\n",
    "# Get the best hyperparameters from the Optuna study\n",
    "best_catboost_params = catboost_study.best_params\n",
    "print(\"Best CatBoost Params:\", best_catboost_params)"
   ]
  },
  {
   "cell_type": "code",
   "execution_count": 41,
   "metadata": {},
   "outputs": [],
   "source": [
    "with open('xrv_model.pkl', 'wb') as file:\n",
    "    pickle.dump(best_catboost_model, file)\n",
    "\n",
    "# Load the model\n",
    "with open('xrv_model.pkl', 'rb') as file:\n",
    "    xrv_model = pickle.load(file)"
   ]
  },
  {
   "cell_type": "code",
   "execution_count": 49,
   "metadata": {},
   "outputs": [],
   "source": [
    "import matplotlib.pyplot as plt\n",
    "import pandas as pd\n",
    "\n",
    "feature_importances = xrv_model.get_feature_importance()\n",
    "feature_names = X.columns\n",
    "\n",
    "# Create a DataFrame for better visualization\n",
    "importances_df = pd.DataFrame({\n",
    "    'Feature': feature_names,\n",
    "    'Importance': feature_importances\n",
    "}).sort_values(by='Importance', ascending=False)"
   ]
  },
  {
   "cell_type": "code",
   "execution_count": 51,
   "metadata": {},
   "outputs": [
    {
     "data": {
      "image/png": "[encoded data removed]",
      "text/plain": [
       "<Figure size 1000x600 with 1 Axes>"
      ]
     },
     "metadata": {},
     "output_type": "display_data"
    }
   ],
   "source": [
    "# Plot feature importances\n",
    "plt.figure(figsize=(10, 6))\n",
    "plt.barh(importances_df['Feature'], importances_df['Importance'], edgecolor='black')\n",
    "plt.gca().invert_yaxis()  # Invert y-axis to show the highest importance at the top\n",
    "plt.title('CatBoost Feature Importance')\n",
    "plt.xlabel('Importance')\n",
    "plt.ylabel('Feature')\n",
    "plt.grid(axis='x', linestyle='--', alpha=0.7)\n",
    "plt.show()"
   ]
  }
 ],
 "metadata": {
  "kernelspec": {
   "display_name": "base",
   "language": "python",
   "name": "python3"
  },
  "language_info": {
   "codemirror_mode": {
    "name": "ipython",
    "version": 3
   },
   "file_extension": ".py",
   "mimetype": "text/x-python",
   "name": "python",
   "nbconvert_exporter": "python",
   "pygments_lexer": "ipython3",
   "version": "3.11.5"
  }
 },
 "nbformat": 4,
 "nbformat_minor": 2
}
